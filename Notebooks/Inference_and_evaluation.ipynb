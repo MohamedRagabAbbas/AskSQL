{
 "cells": [
  {
   "cell_type": "code",
   "execution_count": 1,
   "metadata": {},
   "outputs": [],
   "source": [
    "from transformers import AutoModelForSeq2SeqLM, AutoTokenizer, AutoModelForCausalLM, AutoConfig, Trainer, TrainingArguments, PreTrainedTokenizer, BitsAndBytesConfig\n",
    "from nltk.translate.bleu_score import sentence_bleu\n",
    "import torch\n",
    "import torch.distributed\n",
    "from peft import LoraConfig, PeftModel, get_peft_model, prepare_model_for_kbit_training\n",
    "\n",
    "import copy\n",
    "from dataclasses import dataclass, field\n",
    "from typing import Optional, Dict, Sequence\n",
    "from datasets import load_dataset\n",
    "\n",
    "from typing import List, Dict\n",
    "import random\n",
    "from nltk.translate.bleu_score import sentence_bleu, SmoothingFunction\n",
    "from tqdm import tqdm\n",
    "\n",
    "device = torch.device(\"cuda\" if torch.cuda.is_available() else \"cpu\")"
   ]
  },
  {
   "cell_type": "code",
   "execution_count": 2,
   "metadata": {},
   "outputs": [],
   "source": [
    "MODEL_NAME = \"deepseek-ai/deepseek-coder-1.3b-instruct\"\n",
    "OUTPUT_DIR = \"./fine_tuned_model/\"  \n",
    "merged_model = './model/'\n",
    "#fine_tuned_model_path = 'fine_tuned_model'"
   ]
  },
  {
   "cell_type": "code",
   "execution_count": 3,
   "metadata": {},
   "outputs": [
    {
     "name": "stdout",
     "output_type": "stream",
     "text": [
      "./model/\n"
     ]
    }
   ],
   "source": [
    "print(merged_model)"
   ]
  },
  {
   "cell_type": "code",
   "execution_count": 4,
   "metadata": {},
   "outputs": [
    {
     "data": {
      "application/vnd.jupyter.widget-view+json": {
       "model_id": "5b9abd6e2fab462c9ad72349a76691bc",
       "version_major": 2,
       "version_minor": 0
      },
      "text/plain": [
       "Loading checkpoint shards:   0%|          | 0/2 [00:00<?, ?it/s]"
      ]
     },
     "metadata": {},
     "output_type": "display_data"
    },
    {
     "data": {
      "text/plain": [
       "LlamaForCausalLM(\n",
       "  (model): LlamaModel(\n",
       "    (embed_tokens): Embedding(32256, 2048)\n",
       "    (layers): ModuleList(\n",
       "      (0-23): 24 x LlamaDecoderLayer(\n",
       "        (self_attn): LlamaSdpaAttention(\n",
       "          (q_proj): Linear(in_features=2048, out_features=2048, bias=False)\n",
       "          (k_proj): Linear(in_features=2048, out_features=2048, bias=False)\n",
       "          (v_proj): Linear(in_features=2048, out_features=2048, bias=False)\n",
       "          (o_proj): Linear(in_features=2048, out_features=2048, bias=False)\n",
       "          (rotary_emb): LlamaRotaryEmbedding()\n",
       "        )\n",
       "        (mlp): LlamaMLP(\n",
       "          (gate_proj): Linear(in_features=2048, out_features=5504, bias=False)\n",
       "          (up_proj): Linear(in_features=2048, out_features=5504, bias=False)\n",
       "          (down_proj): Linear(in_features=5504, out_features=2048, bias=False)\n",
       "          (act_fn): SiLU()\n",
       "        )\n",
       "        (input_layernorm): LlamaRMSNorm((2048,), eps=1e-06)\n",
       "        (post_attention_layernorm): LlamaRMSNorm((2048,), eps=1e-06)\n",
       "      )\n",
       "    )\n",
       "    (norm): LlamaRMSNorm((2048,), eps=1e-06)\n",
       "    (rotary_emb): LlamaRotaryEmbedding()\n",
       "  )\n",
       "  (lm_head): Linear(in_features=2048, out_features=32256, bias=False)\n",
       ")"
      ]
     },
     "execution_count": 4,
     "metadata": {},
     "output_type": "execute_result"
    }
   ],
   "source": [
    "config = AutoConfig.from_pretrained(merged_model)\n",
    "model = AutoModelForCausalLM.from_pretrained(\n",
    "    merged_model,\n",
    "    config=config,\n",
    "    trust_remote_code=True,\n",
    "    device_map=\"auto\",\n",
    "    torch_dtype=torch.bfloat16\n",
    ")\n",
    "tokenizer = AutoTokenizer.from_pretrained(merged_model)\n",
    "model.to(device)\n"
   ]
  },
  {
   "cell_type": "markdown",
   "metadata": {},
   "source": [
    "## Dataset"
   ]
  },
  {
   "cell_type": "code",
   "execution_count": 5,
   "metadata": {},
   "outputs": [],
   "source": [
    "ds = load_dataset(\"NumbersStation/NSText2SQL\")"
   ]
  },
  {
   "cell_type": "code",
   "execution_count": 6,
   "metadata": {},
   "outputs": [],
   "source": [
    "def split_dataset(dataset, eval_ratio=0.1, train_ratio=0.8, test_ratio=0.1):\n",
    "    \"\"\"\n",
    "    Split the Hugging Face dataset into evaluation, training, and test sets.\n",
    "\n",
    "    Parameters:\n",
    "    dataset (Dataset): The dataset loaded using `load_dataset`.\n",
    "    eval_ratio (float): Proportion of the dataset to be used for evaluation.\n",
    "    train_ratio (float): Proportion of the dataset to be used for training.\n",
    "    test_ratio (float): Proportion of the dataset to be used for testing.\n",
    "\n",
    "    Returns:\n",
    "    tuple: A tuple containing (train_set, eval_set, test_set).\n",
    "    \"\"\"\n",
    "    # Ensure the ratios sum to 1\n",
    "    assert eval_ratio + train_ratio + test_ratio == 1, \"Ratios must sum to 1\"\n",
    "\n",
    "    # First, split the dataset into train+temp (train + eval/test)\n",
    "    train_test_split = dataset.train_test_split(test_size=(eval_ratio + test_ratio))\n",
    "\n",
    "    # From the remaining (eval + test), split it into eval and test\n",
    "    eval_test_split = train_test_split['test'].train_test_split(test_size=(test_ratio / (eval_ratio + test_ratio)))\n",
    "\n",
    "    # Return the splits\n",
    "    return train_test_split['train'], eval_test_split['train'], eval_test_split['test']"
   ]
  },
  {
   "cell_type": "code",
   "execution_count": 7,
   "metadata": {},
   "outputs": [
    {
     "name": "stdout",
     "output_type": "stream",
     "text": [
      "Training Set Size: 231430\n",
      "Evaluation Set Size: 28929\n",
      "Test Set Size: 28929\n"
     ]
    }
   ],
   "source": [
    "train_split = ds['train']\n",
    "\n",
    "# Split the dataset\n",
    "train_set, eval_set, test_set = split_dataset(train_split)\n",
    "\n",
    "# Example to show the result\n",
    "print(\"Training Set Size:\", len(train_set))\n",
    "print(\"Evaluation Set Size:\", len(eval_set))\n",
    "print(\"Test Set Size:\", len(test_set))"
   ]
  },
  {
   "cell_type": "markdown",
   "metadata": {},
   "source": [
    "## Evaluation"
   ]
  },
  {
   "cell_type": "code",
   "execution_count": null,
   "metadata": {},
   "outputs": [],
   "source": [
    "import random\n",
    "import torch\n",
    "from transformers import AutoModelForSeq2SeqLM, AutoTokenizer\n",
    "from nltk.translate.bleu_score import sentence_bleu, SmoothingFunction\n",
    "from tqdm import tqdm\n",
    "import re\n",
    "from typing import List\n",
    "\n",
    "\n",
    "def evaluate_bleu(\n",
    "    model: AutoModelForSeq2SeqLM,\n",
    "    tokenizer: AutoTokenizer,\n",
    "    test_data,\n",
    "    eval_percentage: float = 1.0,\n",
    "    device: str = \"cpu\",\n",
    "    batch_size: int = 16,\n",
    "    max_new_tokens = 50  \n",
    ") -> float:\n",
    "    \"\"\"\n",
    "    Evaluate the model using BLEU score on a subset of the test dataset with batch processing.\n",
    "\n",
    "    Parameters:\n",
    "        model (AutoModelForSeq2SeqLM): The pre-trained model for evaluation.\n",
    "        tokenizer (AutoTokenizer): The tokenizer for the model.\n",
    "        test_data: The test dataset containing 'instruction' and 'output' keys.\n",
    "        eval_percentage (float): The percentage of the test data to use for evaluation (0 to 1).\n",
    "        device (str): The device to run the model on ('cuda' or 'cpu').\n",
    "        batch_size (int): Number of samples to process in a single batch.\n",
    "\n",
    "    Returns:\n",
    "        float: The average BLEU score over the evaluated subset.\n",
    "    \"\"\"\n",
    "    if not (0 < eval_percentage <= 1):\n",
    "        raise ValueError(\"eval_percentage must be between 0 (exclusive) and 1 (inclusive).\")\n",
    "\n",
    "    if tokenizer.pad_token_id is None:\n",
    "        tokenizer.pad_token_id = tokenizer.eos_token_id\n",
    "\n",
    "    test_data = list(test_data)\n",
    "    if not test_data:\n",
    "        raise ValueError(\"The test_data dataset is empty.\")\n",
    "    eval_size = int(len(test_data) * eval_percentage)\n",
    "    eval_data = random.sample(test_data, eval_size)\n",
    "\n",
    "    model.eval()\n",
    "    model = model.to(device)\n",
    "\n",
    "\n",
    "    smoothing_function = SmoothingFunction().method1\n",
    "\n",
    "    bleu_scores = []\n",
    "    running_sum = 0.0  \n",
    "\n",
    "    batches = [\n",
    "        eval_data[i:i + batch_size]\n",
    "        for i in range(0, len(eval_data), batch_size)\n",
    "    ]\n",
    "\n",
    "    with torch.no_grad():\n",
    "        with tqdm(total=len(batches), desc=\"Evaluating BLEU score\", unit=\"batch\") as pbar:\n",
    "            for batch_idx, batch in enumerate(batches, 1):\n",
    "                instructions = [sample[\"instruction\"] for sample in batch]\n",
    "                reference_outputs = [sample[\"output\"] for sample in batch]\n",
    "\n",
    "                response_marker = \"Response:\"\n",
    "\n",
    "                prompts = [f\"{instruction}\\n\\n{response_marker} \" for instruction in instructions]\n",
    "\n",
    "                inputs = tokenizer(\n",
    "                    prompts,\n",
    "                    return_tensors=\"pt\",\n",
    "                    padding=True,\n",
    "                    truncation=True\n",
    "                ).to(device) \n",
    "                try:\n",
    "                    generated_outputs = model.generate(\n",
    "                        inputs[\"input_ids\"],\n",
    "                        attention_mask=inputs[\"attention_mask\"],\n",
    "                        max_new_tokens=max_new_tokens,\n",
    "                        eos_token_id=tokenizer.eos_token_id,\n",
    "                        do_sample=False,  \n",
    "                        num_beams=1,     \n",
    "                    )\n",
    "                except RuntimeError as e:\n",
    "                    print(f\"Error during generation in batch {batch_idx}: {e}\")\n",
    "                    raise e\n",
    "\n",
    "                generated_texts = [\n",
    "                    tokenizer.decode(output, skip_special_tokens=True)\n",
    "                    for output in generated_outputs\n",
    "                ]\n",
    "\n",
    "                for generated_text, reference_output, instruction in zip(generated_texts, reference_outputs, instructions):\n",
    "                    if response_marker in generated_text:\n",
    "                        predicted_text = generated_text.split(response_marker)[-1].strip()\n",
    "                    else:\n",
    "                        if generated_text.startswith(instruction):\n",
    "                            predicted_text = generated_text[len(instruction):].strip()\n",
    "                        else:\n",
    "                            predicted_text = re.split(r'--|#|;', generated_text)[0].strip()\n",
    "                    predicted_text = re.split(r';', predicted_text)[0].strip()\n",
    "                    reference = [reference_output.lower().split()]\n",
    "                    hypothesis = predicted_text.lower().split()\n",
    "\n",
    "                    score = sentence_bleu(reference, hypothesis, smoothing_function=smoothing_function)\n",
    "                    bleu_scores.append(score)\n",
    "\n",
    "                    running_sum += score\n",
    "\n",
    "                current_average = running_sum / len(bleu_scores)\n",
    "\n",
    "                pbar.set_postfix({\n",
    "                    \"Average BLEU\": f\"{current_average * 100:.2f}%\"\n",
    "                })\n",
    "\n",
    "                pbar.update(1)\n",
    "    average_bleu = running_sum / eval_size if eval_size > 0 else 0.0\n",
    "    print(f\"Average BLEU score: {average_bleu * 100:.2f}%\")\n",
    "    return average_bleu\n"
   ]
  },
  {
   "cell_type": "code",
   "execution_count": null,
   "metadata": {},
   "outputs": [],
   "source": [
    "model.eval()\n",
    "average_bleu = evaluate_bleu(\n",
    "    model=model,\n",
    "    tokenizer=tokenizer,\n",
    "    test_data=test_set,\n",
    "    device = device,\n",
    "    eval_percentage=1,  \n",
    "    batch_size=5,  \n",
    "    max_new_tokens = 50\n",
    ")\n",
    "\n",
    "print(f\"Final Average BLEU score: {average_bleu * 100:.2f}%\")"
   ]
  },
  {
   "cell_type": "markdown",
   "metadata": {},
   "source": [
    "# Inference"
   ]
  },
  {
   "cell_type": "code",
   "execution_count": null,
   "metadata": {},
   "outputs": [],
   "source": [
    "import torch\n",
    "from transformers import AutoModelForSeq2SeqLM, AutoTokenizer\n",
    "import re\n",
    "\n",
    "def generate_response(\n",
    "    model: AutoModelForSeq2SeqLM,\n",
    "    tokenizer: AutoTokenizer,\n",
    "    query: str,\n",
    "    max_new_tokens: int = 250,\n",
    "    device: str = \"cpu\",\n",
    "    response_marker: str = \"Response:\",\n",
    "    clean_after_marker: bool = True\n",
    ") -> str:\n",
    "    \"\"\"\n",
    "    Generates a clean response from the model given a query.\n",
    "\n",
    "    Parameters:\n",
    "        model (AutoModelForSeq2SeqLM): The pre-trained model.\n",
    "        tokenizer (AutoTokenizer): The tokenizer for the model.\n",
    "        query (str): The input query string.\n",
    "        max_new_tokens (int): The maximum number of tokens to generate for the response.\n",
    "        device (str): The device to run the model on ('cuda' or 'cpu').\n",
    "        response_marker (str): A specific marker indicating where the response starts.\n",
    "        clean_after_marker (bool): Whether to clean the response after the marker.\n",
    "\n",
    "    Returns:\n",
    "        str: The cleaned generated response text.\n",
    "    \"\"\"\n",
    "    model = model.to(device)\n",
    "    \n",
    "    prompt = f\"{query}\\n\\n{response_marker} \"\n",
    "    \n",
    "    inputs = tokenizer(\n",
    "        prompt,\n",
    "        return_tensors=\"pt\",\n",
    "        padding=True,\n",
    "        truncation=True\n",
    "    ).to(device)\n",
    "    \n",
    "    with torch.no_grad():\n",
    "        outputs = model.generate(\n",
    "            inputs[\"input_ids\"],\n",
    "            attention_mask=inputs[\"attention_mask\"],\n",
    "            max_new_tokens=max_new_tokens,\n",
    "            eos_token_id=tokenizer.eos_token_id,\n",
    "            pad_token_id=tokenizer.pad_token_id,\n",
    "        )\n",
    "    \n",
    "    generated_text = tokenizer.decode(outputs[0], skip_special_tokens=True)\n",
    "    \n",
    "    if response_marker in generated_text:\n",
    "        response = generated_text.split(response_marker)[-1].strip()\n",
    "    else:\n",
    "        response = generated_text[len(prompt):].strip()\n",
    "    \n",
    "    if clean_after_marker:\n",
    "        response = re.split(r'--|#|;', response)[0].strip()\n",
    "    \n",
    "    return response\n"
   ]
  },
  {
   "cell_type": "code",
   "execution_count": 40,
   "metadata": {},
   "outputs": [
    {
     "name": "stdout",
     "output_type": "stream",
     "text": [
      "expected output: SELECT power_output FROM table_name_88 WHERE wheel_arrangement = \"b-b\" AND build_date = \"1952\"\n",
      "=============================================================\n",
      "Generated Response: SELECT power_output \n",
      "FROM table_name_88\n",
      "WHERE wheel_arrangement = 'b-b wheel arrangement' AND build_date = '1952'\n"
     ]
    }
   ],
   "source": [
    "random_quesion = 13774\n",
    "query = test_set['instruction'][random_quesion]\n",
    "response = generate_response(model, tokenizer, query)\n",
    "print(\"expected output:\", test_set['output'][random_quesion])\n",
    "print(\"=============================================================\")\n",
    "print(\"Generated Response:\", response)"
   ]
  },
  {
   "cell_type": "code",
   "execution_count": 43,
   "metadata": {},
   "outputs": [
    {
     "data": {
      "text/plain": [
       "'CREATE TABLE table_name_88 (\\n    power_output VARCHAR,\\n    wheel_arrangement VARCHAR,\\n    build_date VARCHAR\\n)\\n\\n\\n-- Using valid SQLite, answer the following questions for the tables provided above.\\n\\n-- What is the power of b-b wheel arrangement, built in 1952?\\n'"
      ]
     },
     "execution_count": 43,
     "metadata": {},
     "output_type": "execute_result"
    }
   ],
   "source": [
    "random_quesion = 13774\n",
    "test_set['instruction'][random_quesion]"
   ]
  },
  {
   "cell_type": "code",
   "execution_count": 63,
   "metadata": {},
   "outputs": [
    {
     "name": "stdout",
     "output_type": "stream",
     "text": [
      "Generated Response: To solve this problem, we can use a SQL query to join the two tables on the doctor_id and then group by the year and doctor_id.\n",
      "\n",
      "Here is the SQL query:\n",
      "\n",
      "```sql\n",
      "SELECT \n",
      "    d.doctor_id,\n",
      "    CONCAT(d.first_name, ' ', d.last_name) AS doctor_full_name,\n",
      "    d.specialty,\n",
      "    YEAR(a.admission_date) AS year,\n",
      "    COUNT(a.patient_id) AS total_admissions\n",
      "FROM \n",
      "    doctors d\n",
      "JOIN \n",
      "    admissions a ON d.doctor_id = a.attending_doctor_id\n",
      "GROUP BY \n",
      "    d.doctor_id,\n",
      "    YEAR(a.admission_date)\n",
      "ORDER BY \n",
      "    d.doctor_id,\n",
      "    YEAR(a.admission_date)\n"
     ]
    }
   ],
   "source": [
    "schema = '''\n",
    "admissions\n",
    "    patient_id\tINT\n",
    "    admission_date\tDATE\n",
    "    discharge_date\tDATE\n",
    "    diagnosis\tTEXT\n",
    "    primary key attending_doctor_id\tINT\n",
    "doctors\n",
    "    doctor_id\tINT\n",
    "    first_name\tTEXT\n",
    "    last_name\tTEXT\n",
    "    specialty\tTEXT\n",
    "'''\n",
    "query = ''' \n",
    "We need a breakdown for the total amount of admissions each doctor has started each year. Show the doctor_id, doctor_full_name, specialty, year, total_admissions for that year.\n",
    "'''\n",
    "\n",
    "response = generate_response(model, tokenizer, schema + query)\n",
    "print(\"Generated Response:\", response)"
   ]
  }
 ],
 "metadata": {
  "kernelspec": {
   "display_name": "cuda-gpt",
   "language": "python",
   "name": "cuda"
  },
  "language_info": {
   "codemirror_mode": {
    "name": "ipython",
    "version": 3
   },
   "file_extension": ".py",
   "mimetype": "text/x-python",
   "name": "python",
   "nbconvert_exporter": "python",
   "pygments_lexer": "ipython3",
   "version": "3.8.10"
  }
 },
 "nbformat": 4,
 "nbformat_minor": 2
}
