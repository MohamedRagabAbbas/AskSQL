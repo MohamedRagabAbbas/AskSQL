{
 "cells": [
  {
   "cell_type": "code",
   "execution_count": 1,
   "metadata": {
    "colab": {
     "base_uri": "https://localhost:8080/"
    },
    "executionInfo": {
     "elapsed": 1895,
     "status": "ok",
     "timestamp": 1729262134090,
     "user": {
      "displayName": "Rate AUC Professors",
      "userId": "06817379400783385187"
     },
     "user_tz": -180
    },
    "id": "i_6BkWXS1bOp",
    "outputId": "59b434fb-feb6-4387-e6dc-d3eca7c8700c"
   },
   "outputs": [],
   "source": [
    "#pip install -U datasets"
   ]
  },
  {
   "cell_type": "code",
   "execution_count": 2,
   "metadata": {
    "colab": {
     "base_uri": "https://localhost:8080/"
    },
    "executionInfo": {
     "elapsed": 2916,
     "status": "ok",
     "timestamp": 1729262137003,
     "user": {
      "displayName": "Rate AUC Professors",
      "userId": "06817379400783385187"
     },
     "user_tz": -180
    },
    "id": "pkRbdxTx1ViL",
    "outputId": "16e63ce7-e767-41eb-e5cd-bcc935c2b9ea"
   },
   "outputs": [],
   "source": [
    "#pip install -U peft"
   ]
  },
  {
   "cell_type": "code",
   "execution_count": 3,
   "metadata": {
    "colab": {
     "base_uri": "https://localhost:8080/"
    },
    "executionInfo": {
     "elapsed": 2773,
     "status": "ok",
     "timestamp": 1729262139773,
     "user": {
      "displayName": "Rate AUC Professors",
      "userId": "06817379400783385187"
     },
     "user_tz": -180
    },
    "id": "HIQ0FbNTetHY",
    "outputId": "8cf237c6-0e95-4880-d9fc-2359493e31d0"
   },
   "outputs": [],
   "source": [
    "# pip install -U bitsandbytes"
   ]
  },
  {
   "cell_type": "code",
   "execution_count": 4,
   "metadata": {},
   "outputs": [],
   "source": [
    "# -U transformerspip install "
   ]
  },
  {
   "cell_type": "code",
   "execution_count": 5,
   "metadata": {},
   "outputs": [],
   "source": [
    "# pip install --upgrade transformers"
   ]
  },
  {
   "cell_type": "code",
   "execution_count": 6,
   "metadata": {},
   "outputs": [],
   "source": [
    "# pip install --upgrade transformers peft"
   ]
  },
  {
   "cell_type": "code",
   "execution_count": 7,
   "metadata": {},
   "outputs": [],
   "source": [
    "# pip install evaluate\n"
   ]
  },
  {
   "cell_type": "code",
   "execution_count": 1,
   "metadata": {
    "executionInfo": {
     "elapsed": 12340,
     "status": "ok",
     "timestamp": 1729262152111,
     "user": {
      "displayName": "Rate AUC Professors",
      "userId": "06817379400783385187"
     },
     "user_tz": -180
    },
    "id": "v0EfRtKMcCDn"
   },
   "outputs": [],
   "source": [
    "import torch\n",
    "import torch.distributed\n",
    "from transformers import AutoTokenizer, AutoModelForCausalLM, AutoConfig, Trainer, TrainingArguments, PreTrainedTokenizer, BitsAndBytesConfig\n",
    "from peft import LoraConfig, PeftModel, get_peft_model, prepare_model_for_kbit_training\n",
    "\n",
    "import copy\n",
    "from dataclasses import dataclass, field\n",
    "from typing import Optional, Dict, Sequence\n",
    "from datasets import load_dataset\n",
    "\n",
    "device = torch.device(\"cuda\" if torch.cuda.is_available() else \"cpu\")"
   ]
  },
  {
   "cell_type": "markdown",
   "metadata": {
    "id": "vKEwtj3scCDr"
   },
   "source": [
    "## Hyperparameter Configuration"
   ]
  },
  {
   "cell_type": "code",
   "execution_count": 4,
   "metadata": {
    "executionInfo": {
     "elapsed": 14,
     "status": "ok",
     "timestamp": 1729262152112,
     "user": {
      "displayName": "Rate AUC Professors",
      "userId": "06817379400783385187"
     },
     "user_tz": -180
    },
    "id": "uHVC1qC5cCDs"
   },
   "outputs": [],
   "source": [
    "# Hyperparameters\n",
    "CONFIG_PATH = \"./\"\n",
    "MODEL_NAME = \"deepseek-ai/deepseek-coder-1.3b-instruct\"\n",
    "MODEL_PATH = \"./pytorch_model.bin\"\n",
    "current_model = 'current_model'\n",
    "Last_finetuned_model = \"./checkpoint-5500/\" \n",
    "\n",
    "\n",
    "DATA_PATH = \"./data/train_spider.json\"\n",
    "OUTPUT_DIR = \"./fine_tuned_model/\"         # Directory to save the fine-tuned model\n",
    "CACHE_DIR = \"./cache/\"                     # Directory for caching datasets\n",
    "\n",
    "# Training hyperparameters\n",
    "PER_DEVICE_TRAIN_BATCH_SIZE = 4\n",
    "NUM_TRAIN_EPOCHS = 1\n",
    "LEARNING_RATE = 5e-5\n",
    "LOGGING_STEPS = 50\n",
    "Eval_Steps = 200\n",
    "SAVE_STEPS = 500\n",
    "MODEL_MAX_LENGTH = 2048           # Maximum sequence length 512\n",
    "max_new_tokens = 100\n",
    "\n",
    "# Other configurations\n",
    "USE_BFLOAT16 = True\n",
    "NUM_PROC = 1\n",
    "BATCH_SIZE_FOR_TOKENIZATION = 3000\n",
    "TRUST_REMOTE_CODE = True"
   ]
  },
  {
   "cell_type": "code",
   "execution_count": 5,
   "metadata": {},
   "outputs": [],
   "source": [
    "MODEL_MAX_LENGTH = max_new_tokens"
   ]
  },
  {
   "cell_type": "markdown",
   "metadata": {
    "id": "80b7DBEscCDt"
   },
   "source": [
    "## Helper Functions and Data Classes"
   ]
  },
  {
   "cell_type": "code",
   "execution_count": 11,
   "metadata": {
    "executionInfo": {
     "elapsed": 14,
     "status": "ok",
     "timestamp": 1729262152112,
     "user": {
      "displayName": "Rate AUC Professors",
      "userId": "06817379400783385187"
     },
     "user_tz": -180
    },
    "id": "-0d9Kc64cCDt"
   },
   "outputs": [],
   "source": [
    "IGNORE_INDEX = -100\n",
    "EOT_TOKEN = \"<|EOT|>\"\n",
    "\n",
    "def build_instruction_prompt(instruction: str) -> str:\n",
    "    return '''\n",
    "You are an AI programming assistant, utilizing the DeepSeek Coder model, developed by DeepSeek Company, and you only answer questions related to computer science. For politically sensitive questions, security and privacy issues, and other non-computer science questions, you will refuse to answer.\n",
    "### Instruction:\n",
    "{}\n",
    "### Response:\n",
    "'''.format(instruction.strip()).lstrip()\n",
    "\n",
    "@dataclass\n",
    "class ModelArguments:\n",
    "    model_name_or_path: Optional[str] = field(default=MODEL_PATH)\n",
    "\n",
    "@dataclass\n",
    "class DataArguments:\n",
    "    data_path: str = field(default=DATA_PATH, metadata={\"help\": \"Path to the training data.\"})\n",
    "\n",
    "@dataclass\n",
    "class CustomTrainingArguments(TrainingArguments):\n",
    "    cache_dir: Optional[str] = field(default=CACHE_DIR)\n",
    "    optim: str = field(default=\"adamw_torch\")\n",
    "    model_max_length: int = field(\n",
    "        default=MODEL_MAX_LENGTH,\n",
    "        metadata={\"help\": \"Maximum sequence length. Sequences will be right padded (and possibly truncated).\"},\n",
    "    )\n",
    "\n",
    "def safe_save_model_for_hf_trainer(trainer: Trainer, output_dir: str):\n",
    "    \"\"\"Collects the state dict and dump to disk.\"\"\"\n",
    "    state_dict = trainer.model.state_dict()\n",
    "    if trainer.args.should_save:\n",
    "        cpu_state_dict = {key: value.cpu() for key, value in state_dict.items()}\n",
    "        del state_dict\n",
    "        trainer._save(output_dir, state_dict=cpu_state_dict)  # noqa\n",
    "\n",
    "def _tokenize_fn(strings: Sequence[str], tokenizer: PreTrainedTokenizer) -> Dict:\n",
    "    \"\"\"Tokenize a list of strings.\"\"\"\n",
    "    tokenized_list = [\n",
    "        tokenizer(\n",
    "            text,\n",
    "            return_tensors=\"pt\",\n",
    "            padding=\"longest\",\n",
    "            max_length=tokenizer.model_max_length,\n",
    "            truncation=True,\n",
    "        )\n",
    "        for text in strings\n",
    "    ]\n",
    "\n",
    "    input_ids = labels = [tokenized.input_ids[0] for tokenized in tokenized_list]\n",
    "    input_ids_lens = labels_lens = [\n",
    "        tokenized.input_ids.ne(tokenizer.pad_token_id).sum().item() for tokenized in tokenized_list\n",
    "    ]\n",
    "\n",
    "    return dict(\n",
    "        input_ids=input_ids,\n",
    "        labels=labels,\n",
    "        input_ids_lens=input_ids_lens,\n",
    "        labels_lens=labels_lens,\n",
    "    )\n",
    "\n",
    "def preprocess(\n",
    "    sources: Sequence[str],\n",
    "    targets: Sequence[str],\n",
    "    tokenizer: PreTrainedTokenizer,\n",
    ") -> Dict:\n",
    "    \"\"\"Preprocess the data by tokenizing.\"\"\"\n",
    "    examples = [s + t for s, t in zip(sources, targets)]\n",
    "    examples_tokenized, sources_tokenized = [_tokenize_fn(strings, tokenizer) for strings in (examples, sources)]\n",
    "    input_ids = examples_tokenized[\"input_ids\"]\n",
    "\n",
    "    labels = copy.deepcopy(input_ids)\n",
    "    for label, source_len in zip(labels, sources_tokenized[\"input_ids_lens\"]):\n",
    "        label[:source_len] = IGNORE_INDEX\n",
    "    return dict(input_ids=input_ids, labels=labels)\n",
    "\n",
    "@dataclass\n",
    "class DataCollatorForSupervisedDataset(object):\n",
    "    \"\"\"Collate examples for supervised fine-tuning.\"\"\"\n",
    "    tokenizer: PreTrainedTokenizer\n",
    "\n",
    "    def __call__(self, instances: Sequence[Dict]) -> Dict[str, torch.Tensor]:\n",
    "        input_ids, labels = tuple([instance[key] for instance in instances] for key in (\"input_ids\", \"labels\"))\n",
    "        input_ids = [torch.tensor(x) for x in input_ids]\n",
    "        input_ids = torch.nn.utils.rnn.pad_sequence(\n",
    "            input_ids, batch_first=True, padding_value=self.tokenizer.pad_token_id\n",
    "        )\n",
    "        labels = [torch.tensor(x) for x in labels]\n",
    "        labels = torch.nn.utils.rnn.pad_sequence(labels, batch_first=True, padding_value=IGNORE_INDEX)\n",
    "\n",
    "        return dict(\n",
    "            input_ids=input_ids,\n",
    "            labels=labels,\n",
    "            attention_mask=input_ids.ne(self.tokenizer.pad_token_id),\n",
    "        )\n",
    "\n",
    "def train_tokenize_function(examples, tokenizer):\n",
    "    sources = [\n",
    "        build_instruction_prompt(instruction)\n",
    "        for instruction in examples['instruction']\n",
    "    ]\n",
    "    targets = [f\"{output}\\n{EOT_TOKEN}\" for output in examples['output']]\n",
    "    data_dict = preprocess(sources, targets, tokenizer)\n",
    "    return data_dict\n"
   ]
  },
  {
   "cell_type": "markdown",
   "metadata": {
    "id": "RYM47B8OcCDu"
   },
   "source": [
    "## Data Preparation"
   ]
  },
  {
   "cell_type": "code",
   "execution_count": 12,
   "metadata": {
    "colab": {
     "base_uri": "https://localhost:8080/"
    },
    "executionInfo": {
     "elapsed": 5353,
     "status": "ok",
     "timestamp": 1729262157452,
     "user": {
      "displayName": "Rate AUC Professors",
      "userId": "06817379400783385187"
     },
     "user_tz": -180
    },
    "id": "PcHEv3NYc3Q_",
    "outputId": "397b7ff8-9f6f-4be5-e35a-68a35fa923e5"
   },
   "outputs": [],
   "source": [
    "from datasets import load_dataset\n",
    "\n",
    "ds = load_dataset(\"NumbersStation/NSText2SQL\")\n"
   ]
  },
  {
   "cell_type": "code",
   "execution_count": 13,
   "metadata": {
    "executionInfo": {
     "elapsed": 3,
     "status": "ok",
     "timestamp": 1729262157452,
     "user": {
      "displayName": "Rate AUC Professors",
      "userId": "06817379400783385187"
     },
     "user_tz": -180
    },
    "id": "WbXYfeW8c61l"
   },
   "outputs": [],
   "source": [
    "def split_dataset(dataset, eval_ratio=0.1, train_ratio=0.8, test_ratio=0.1):\n",
    "    \"\"\"\n",
    "    Split the Hugging Face dataset into evaluation, training, and test sets.\n",
    "\n",
    "    Parameters:\n",
    "    dataset (Dataset): The dataset loaded using `load_dataset`.\n",
    "    eval_ratio (float): Proportion of the dataset to be used for evaluation.\n",
    "    train_ratio (float): Proportion of the dataset to be used for training.\n",
    "    test_ratio (float): Proportion of the dataset to be used for testing.\n",
    "\n",
    "    Returns:\n",
    "    tuple: A tuple containing (train_set, eval_set, test_set).\n",
    "    \"\"\"\n",
    "    # Ensure the ratios sum to 1\n",
    "    assert eval_ratio + train_ratio + test_ratio == 1, \"Ratios must sum to 1\"\n",
    "\n",
    "    # First, split the dataset into train+temp (train + eval/test)\n",
    "    train_test_split = dataset.train_test_split(test_size=(eval_ratio + test_ratio))\n",
    "\n",
    "    # From the remaining (eval + test), split it into eval and test\n",
    "    eval_test_split = train_test_split['test'].train_test_split(test_size=(test_ratio / (eval_ratio + test_ratio)))\n",
    "\n",
    "    # Return the splits\n",
    "    return train_test_split['train'], eval_test_split['train'], eval_test_split['test']"
   ]
  },
  {
   "cell_type": "code",
   "execution_count": 14,
   "metadata": {
    "colab": {
     "base_uri": "https://localhost:8080/"
    },
    "executionInfo": {
     "elapsed": 4,
     "status": "ok",
     "timestamp": 1729262157452,
     "user": {
      "displayName": "Rate AUC Professors",
      "userId": "06817379400783385187"
     },
     "user_tz": -180
    },
    "id": "WriuJd0Yc_Zb",
    "outputId": "b9cacb0d-b2fc-493c-8f6e-7511f4c79ca8"
   },
   "outputs": [
    {
     "name": "stdout",
     "output_type": "stream",
     "text": [
      "Training Set Size: 231430\n",
      "Evaluation Set Size: 28929\n",
      "Test Set Size: 28929\n"
     ]
    }
   ],
   "source": [
    "train_split = ds['train']\n",
    "\n",
    "# Split the dataset\n",
    "train_set, eval_set, test_set = split_dataset(train_split)\n",
    "\n",
    "# Example to show the result\n",
    "print(\"Training Set Size:\", len(train_set))\n",
    "print(\"Evaluation Set Size:\", len(eval_set))\n",
    "print(\"Test Set Size:\", len(test_set))"
   ]
  },
  {
   "cell_type": "code",
   "execution_count": 15,
   "metadata": {},
   "outputs": [],
   "source": [
    "# def filter_datasets_by_sources(train_set, eval_set, test_set, source_values=['spider', 'another_source']):\n",
    "#     \"\"\"\n",
    "#     Filters the input datasets based on the 'source' column matching any value in the given source_values list.\n",
    "\n",
    "#     Args:\n",
    "#         train_set: The training dataset.\n",
    "#         eval_set: The evaluation dataset.\n",
    "#         test_set: The test dataset.\n",
    "#         source_values (list): A list of values in the 'source' column to filter by (default includes 'spider' and 'another_source').\n",
    "\n",
    "#     Returns:\n",
    "#         tuple: A tuple containing the filtered train_set, eval_set, and test_set.\n",
    "#     \"\"\"\n",
    "#     # Using the filter method for each dataset and checking if the source is in source_values\n",
    "#     filtered_train_set = train_set.filter(lambda example: example['source'] in source_values)\n",
    "#     filtered_eval_set = eval_set.filter(lambda example: example['source'] in source_values)\n",
    "#     filtered_test_set = test_set.filter(lambda example: example['source'] in source_values)\n",
    "    \n",
    "#     return filtered_train_set, filtered_eval_set, filtered_test_set\n"
   ]
  },
  {
   "cell_type": "code",
   "execution_count": 16,
   "metadata": {},
   "outputs": [],
   "source": [
    "# filtered_train, filtered_eval,filtered_test = filter_datasets_by_sources(train_set, eval_set, test_set,['mimic_iii','mimicsql_data'])"
   ]
  },
  {
   "cell_type": "code",
   "execution_count": 17,
   "metadata": {},
   "outputs": [],
   "source": [
    "from datasets import load_from_disk, DatasetDict\n",
    "import os"
   ]
  },
  {
   "cell_type": "code",
   "execution_count": 18,
   "metadata": {
    "executionInfo": {
     "elapsed": 973,
     "status": "ok",
     "timestamp": 1729262158423,
     "user": {
      "displayName": "Rate AUC Professors",
      "userId": "06817379400783385187"
     },
     "user_tz": -180
    },
    "id": "R6eB4bjqcCDu"
   },
   "outputs": [
    {
     "name": "stderr",
     "output_type": "stream",
     "text": [
      "/home/youssefm/.local/lib/python3.8/site-packages/transformers/training_args.py:1559: FutureWarning: `evaluation_strategy` is deprecated and will be removed in version 4.46 of 🤗 Transformers. Use `eval_strategy` instead\n",
      "  warnings.warn(\n"
     ]
    }
   ],
   "source": [
    "# model_args = ModelArguments(model_name_or_path=MODEL_PATH)\n",
    "model_args = ModelArguments(model_name_or_path=OUTPUT_DIR)\n",
    "data_args = DataArguments(data_path=DATA_PATH)\n",
    "training_args = CustomTrainingArguments(\n",
    "    output_dir=OUTPUT_DIR,\n",
    "    cache_dir=CACHE_DIR,\n",
    "    per_device_train_batch_size=PER_DEVICE_TRAIN_BATCH_SIZE,\n",
    "    per_device_eval_batch_size = PER_DEVICE_TRAIN_BATCH_SIZE,\n",
    "    num_train_epochs=NUM_TRAIN_EPOCHS,\n",
    "    learning_rate=LEARNING_RATE,\n",
    "    logging_steps=LOGGING_STEPS,\n",
    "    save_steps=SAVE_STEPS,\n",
    "    eval_steps=Eval_Steps,\n",
    "    evaluation_strategy=\"steps\",\n",
    "    optim=\"adamw_torch\",\n",
    "    model_max_length=MODEL_MAX_LENGTH,\n",
    "    report_to='tensorboard',\n",
    "    # gradient_accumulation_steps=16,\n",
    ")\n",
    "\n",
    "def train_tokenize_function(examples):\n",
    "    sources = [\n",
    "        build_instruction_prompt(instruction)\n",
    "        for instruction in examples['instruction']\n",
    "    ]\n",
    "    targets = [f\"{output}\\n{EOT_TOKEN}\" for output in examples['output']]\n",
    "    data_dict = preprocess(sources, targets, tokenizer)\n",
    "    return data_dict\n",
    "\n",
    "# Load the dataset\n",
    "#raw_train_datasets = train_split.select(range(1000))\n",
    "raw_train_datasets = train_set\n",
    "raw_eval_datasets = eval_set\n",
    "#tokenizer = AutoTokenizer.from_pretrained(MODEL_NAME, trust_remote_code=True)\n",
    "tokenizer = AutoTokenizer.from_pretrained(OUTPUT_DIR, trust_remote_code=True)\n",
    "\n",
    "# Tokenize the dataset\n",
    "# train_dataset = raw_train_datasets.map(\n",
    "#     train_tokenize_function,\n",
    "#     batched=True,\n",
    "#     batch_size=BATCH_SIZE_FOR_TOKENIZATION,\n",
    "#     num_proc=NUM_PROC,\n",
    "#     remove_columns=raw_train_datasets.column_names,\n",
    "#     load_from_cache_file=True,  # Set to False to overwrite cache\n",
    "#     desc=\"Running Encoding\",\n",
    "# )\n",
    "\n",
    "# Define the cache directory for the tokenized dataset\n",
    "TOKENIZED_DATASET_PATH = os.path.join(OUTPUT_DIR, \"tokenized_data\")\n",
    "\n",
    "# Check if the tokenized dataset exists\n",
    "train_dataset = load_from_disk(TOKENIZED_DATASET_PATH)\n",
    "eval_dataset = load_from_disk(TOKENIZED_DATASET_PATH+\"/evaluation\")\n",
    "\n",
    "# if os.path.exists(TOKENIZED_DATASET_PATH+\"/to make it false\"):\n",
    "#     print(\"Loading tokenized dataset from cache...\")\n",
    "#     #train_dataset = load_from_disk(TOKENIZED_DATASET_PATH)\n",
    "#     eval_dataset = load_from_disk(TOKENIZED_DATASET_PATH+\"/evluation\")\n",
    "# else:\n",
    "#     print(\"Tokenizing dataset...\")\n",
    "    \n",
    "#     # Tokenize the dataset\n",
    "#     # train_dataset = raw_train_datasets.map(\n",
    "#     #     train_tokenize_function,\n",
    "#     #     batched=True,\n",
    "#     #     batch_size=BATCH_SIZE_FOR_TOKENIZATION,\n",
    "#     #     num_proc=NUM_PROC,\n",
    "#     #     remove_columns=raw_train_datasets.column_names,\n",
    "#     #     load_from_cache_file=True,  # Set to False to overwrite cache during tokenization\n",
    "#     #     desc=\"Running Encoding\",\n",
    "#     # )\n",
    "#     eval_dataset = raw_eval_datasets.map(\n",
    "#         train_tokenize_function,\n",
    "#         batched=True,\n",
    "#         batch_size=BATCH_SIZE_FOR_TOKENIZATION,\n",
    "#         num_proc=NUM_PROC,\n",
    "#         remove_columns=raw_eval_datasets.column_names,\n",
    "#         load_from_cache_file=True,  # Set to False to overwrite cache during tokenization\n",
    "#         desc=\"Running Encoding\",\n",
    "#     )\n",
    "    \n",
    "\n",
    "#     # Save the tokenized dataset to disk\n",
    "#     #train_dataset.save_to_disk(TOKENIZED_DATASET_PATH)\n",
    "#     eval_dataset.save_to_disk(TOKENIZED_DATASET_PATH+\"/evaluation\")\n",
    "#     print(f\"Tokenized dataset saved at {TOKENIZED_DATASET_PATH}\")\n"
   ]
  },
  {
   "cell_type": "markdown",
   "metadata": {
    "id": "Hb7JFM-McCDv"
   },
   "source": [
    "## Model and Tokenizer Initialization"
   ]
  },
  {
   "cell_type": "code",
   "execution_count": 19,
   "metadata": {
    "colab": {
     "base_uri": "https://localhost:8080/"
    },
    "executionInfo": {
     "elapsed": 4696,
     "status": "ok",
     "timestamp": 1729262163117,
     "user": {
      "displayName": "Rate AUC Professors",
      "userId": "06817379400783385187"
     },
     "user_tz": -180
    },
    "id": "iogXGm4wcCDv",
    "outputId": "bcd444a0-b7e4-4d6d-d4c5-e783cce4f487"
   },
   "outputs": [],
   "source": [
    "# config = AutoConfig.from_pretrained(MODEL_NAME)\n",
    "# # Set up BitsAndBytesConfig\n",
    "# bnb_config = BitsAndBytesConfig(\n",
    "#     load_in_4bit=True,\n",
    "#     bnb_4bit_use_double_quant=True,\n",
    "#     bnb_4bit_quant_type=\"nf4\",\n",
    "#     bnb_4bit_compute_dtype=torch.bfloat16,\n",
    "# )\n",
    "# model = AutoModelForCausalLM.from_pretrained(\n",
    "#     MODEL_NAME,\n",
    "#     config=config,\n",
    "#     trust_remote_code=TRUST_REMOTE_CODE,\n",
    "#     quantization_config=bnb_config,\n",
    "#     device_map=\"auto\",\n",
    "#     torch_dtype=torch.bfloat16)\n",
    "# model = prepare_model_for_kbit_training(model)\n",
    "\n",
    "# # Set up LoRA configuration\n",
    "# peft_config = LoraConfig(\n",
    "#     r=16,\n",
    "#     lora_alpha=32,\n",
    "#     target_modules=[\"q_proj\", \"v_proj\",\"k_proj\"],\n",
    "#     lora_dropout=0.05,\n",
    "#     bias=\"none\",\n",
    "#     task_type=\"CAUSAL_LM\",\n",
    "# )\n",
    "\n",
    "# # Apply LoRA to the model\n",
    "# model = get_peft_model(model, peft_config)\n",
    "\n",
    "# # Enable gradient checkpointing\n",
    "# #model.gradient_checkpointing_enable()\n",
    "\n",
    "# model = model.to(torch.device(\"cuda\" if torch.cuda.is_available() else \"cpu\"))\n",
    "\n",
    "# # Verify special tokens\n",
    "# print(\"PAD Token:\", tokenizer.pad_token, tokenizer.pad_token_id)\n",
    "# print(\"BOS Token:\", tokenizer.bos_token, tokenizer.bos_token_id)\n",
    "# print(\"EOS Token:\", tokenizer.eos_token, tokenizer.eos_token_id)\n"
   ]
  },
  {
   "cell_type": "markdown",
   "metadata": {},
   "source": [
    "## Continue Fine-tuning"
   ]
  },
  {
   "cell_type": "code",
   "execution_count": 20,
   "metadata": {},
   "outputs": [
    {
     "name": "stdout",
     "output_type": "stream",
     "text": [
      "PAD Token: <｜end▁of▁sentence｜> 32014\n",
      "BOS Token: <｜begin▁of▁sentence｜> 32013\n",
      "EOS Token: <|EOT|> 32021\n"
     ]
    }
   ],
   "source": [
    "# Load the fine-tuned model configuration and tokenizer\n",
    "config = AutoConfig.from_pretrained(MODEL_NAME)\n",
    "\n",
    "fine_tuned_tokenizer = AutoTokenizer.from_pretrained(OUTPUT_DIR, trust_remote_code=TRUST_REMOTE_CODE)\n",
    "\n",
    "# Set up BitsAndBytesConfig for continued training\n",
    "bnb_config = BitsAndBytesConfig(\n",
    "    load_in_4bit=True,\n",
    "    bnb_4bit_use_double_quant=True,\n",
    "    bnb_4bit_quant_type=\"nf4\",\n",
    "    bnb_4bit_compute_dtype=torch.bfloat16,\n",
    ")\n",
    "\n",
    "base_model = AutoModelForCausalLM.from_pretrained(\n",
    "    MODEL_NAME,\n",
    "    config=config,\n",
    "    trust_remote_code=TRUST_REMOTE_CODE,\n",
    "    quantization_config=bnb_config,\n",
    "    device_map=\"auto\",\n",
    "    torch_dtype=torch.bfloat16)\n",
    "\n",
    "model = PeftModel.from_pretrained(base_model,OUTPUT_DIR)\n",
    "\n",
    "# Prepare the model for k-bit training\n",
    "model = prepare_model_for_kbit_training(model)\n",
    "\n",
    "# Set up LoRA configuration for continued training\n",
    "peft_config = LoraConfig(\n",
    "    r=8,\n",
    "    lora_alpha=32,\n",
    "    target_modules=[\"q_proj\", \"v_proj\", \"k_proj\",\"gate_proj\", \"up_proj\",\"down_proj\"],\n",
    "    lora_dropout=0.1,\n",
    "    bias=\"none\",\n",
    "    task_type=\"CAUSAL_LM\",\n",
    ")\n",
    "\n",
    "# Apply LoRA to the model for continued fine-tuning\n",
    "model = get_peft_model(model, peft_config)\n",
    "\n",
    "# Enable gradient checkpointing (optional)\n",
    "# model.gradient_checkpointing_enable()\n",
    "\n",
    "# Move the model to the appropriate device\n",
    "model = model.to(torch.device(\"cuda\" if torch.cuda.is_available() else \"cpu\"))\n",
    "\n",
    "# Verify special tokens\n",
    "print(\"PAD Token:\", fine_tuned_tokenizer.pad_token, fine_tuned_tokenizer.pad_token_id)\n",
    "print(\"BOS Token:\", fine_tuned_tokenizer.bos_token, fine_tuned_tokenizer.bos_token_id)\n",
    "print(\"EOS Token:\", fine_tuned_tokenizer.eos_token, fine_tuned_tokenizer.eos_token_id)\n"
   ]
  },
  {
   "cell_type": "code",
   "execution_count": 22,
   "metadata": {
    "colab": {
     "base_uri": "https://localhost:8080/"
    },
    "executionInfo": {
     "elapsed": 15,
     "status": "ok",
     "timestamp": 1729262163117,
     "user": {
      "displayName": "Rate AUC Professors",
      "userId": "06817379400783385187"
     },
     "user_tz": -180
    },
    "id": "wX_UR31G3QaV",
    "outputId": "9a8bee4d-d3bb-4e47-ba8d-268a70c96d1d"
   },
   "outputs": [
    {
     "name": "stdout",
     "output_type": "stream",
     "text": [
      "trainable params: 6,709,248 || all params: 1,353,181,184 || trainable%: 0.4958\n"
     ]
    }
   ],
   "source": [
    "model.print_trainable_parameters()"
   ]
  },
  {
   "cell_type": "markdown",
   "metadata": {
    "id": "ZwVBMh_CcCDw"
   },
   "source": [
    "## Training Setup"
   ]
  },
  {
   "cell_type": "code",
   "execution_count": 23,
   "metadata": {},
   "outputs": [],
   "source": [
    "from nltk.translate.bleu_score import sentence_bleu\n",
    "\n",
    "def compute_metrics(pred):\n",
    "    references = pred.label_ids\n",
    "    generated_texts = pred.predictions\n",
    "\n",
    "    bleu_scores = []\n",
    "    \n",
    "    for reference_ids, generated_ids in zip(references, generated_texts):\n",
    "        # Decode the token IDs back into text strings\n",
    "        reference_text = tokenizer.decode(reference_ids, skip_special_tokens=True)\n",
    "        generated_text = tokenizer.decode(generated_ids, skip_special_tokens=True)\n",
    "        \n",
    "        # Compute BLEU score using the decoded reference and generated text\n",
    "        bleu_score = sentence_bleu([reference_text.split()], generated_text.split())\n",
    "        bleu_scores.append(bleu_score)\n",
    "\n",
    "    # Calculate the average BLEU score\n",
    "    avg_bleu = sum(bleu_scores) / len(bleu_scores) if bleu_scores else 0.0\n",
    "    \n",
    "    return {'bleu': avg_bleu}\n"
   ]
  },
  {
   "cell_type": "code",
   "execution_count": 24,
   "metadata": {},
   "outputs": [],
   "source": [
    "# pip install tensorboardX"
   ]
  },
  {
   "cell_type": "code",
   "execution_count": 25,
   "metadata": {
    "executionInfo": {
     "elapsed": 482,
     "status": "ok",
     "timestamp": 1729262163584,
     "user": {
      "displayName": "Rate AUC Professors",
      "userId": "06817379400783385187"
     },
     "user_tz": -180
    },
    "id": "MdtzKqjrcCDw"
   },
   "outputs": [
    {
     "name": "stderr",
     "output_type": "stream",
     "text": [
      "<ipython-input-25-3134d34f9b49>:6: FutureWarning: `tokenizer` is deprecated and will be removed in version 5.0.0 for `Trainer.__init__`. Use `processing_class` instead.\n",
      "  trainer = Trainer(\n"
     ]
    }
   ],
   "source": [
    "import os\n",
    "# Initialize the data collator\n",
    "data_collator = DataCollatorForSupervisedDataset(tokenizer=fine_tuned_tokenizer)\n",
    "\n",
    "# Initialize Trainer\n",
    "trainer = Trainer(\n",
    "    model=model,\n",
    "    #tokenizer=tokenizer,\n",
    "    tokenizer=fine_tuned_tokenizer,\n",
    "    args=training_args,\n",
    "    train_dataset=train_dataset,\n",
    "    eval_dataset=eval_dataset.select(range(100)),          # evaluation dataset\n",
    "    #compute_metrics=compute_metrics,\n",
    "    data_collator=data_collator,\n",
    ")\n",
    "# # Load the optimizer and scheduler states\n",
    "# if os.path.exists(os.path.join(Last_finetuned_model, \"optimizer.pt\")):\n",
    "#     optimizer_state = torch.load(os.path.join(current_model, \"optimizer.pt\"))\n",
    "#     trainer.optimizer.load_state_dict(optimizer_state)\n",
    "\n",
    "# if os.path.exists(os.path.join(Last_finetuned_model, \"scheduler.pt\")):\n",
    "#     scheduler_state = torch.load(os.path.join(current_model, \"scheduler.pt\"))\n",
    "#     trainer.lr_scheduler.load_state_dict(scheduler_state)"
   ]
  },
  {
   "cell_type": "code",
   "execution_count": 26,
   "metadata": {},
   "outputs": [
    {
     "data": {
      "text/plain": [
       "Dataset({\n",
       "    features: ['input_ids', 'labels'],\n",
       "    num_rows: 231430\n",
       "})"
      ]
     },
     "execution_count": 26,
     "metadata": {},
     "output_type": "execute_result"
    }
   ],
   "source": [
    "train_dataset"
   ]
  },
  {
   "cell_type": "markdown",
   "metadata": {
    "id": "2RKaqgdDcCDw"
   },
   "source": [
    "## Training Execution"
   ]
  },
  {
   "cell_type": "code",
   "execution_count": 28,
   "metadata": {
    "colab": {
     "base_uri": "https://localhost:8080/",
     "height": 1000
    },
    "executionInfo": {
     "elapsed": 2825915,
     "status": "error",
     "timestamp": 1729264989497,
     "user": {
      "displayName": "Rate AUC Professors",
      "userId": "06817379400783385187"
     },
     "user_tz": -180
    },
    "id": "dVKGlpMmcCDw",
    "outputId": "1d2b3864-68e8-409b-d1fe-9055621b7660"
   },
   "outputs": [
    {
     "name": "stderr",
     "output_type": "stream",
     "text": [
      "/home/youssefm/.local/lib/python3.8/site-packages/transformers/trainer.py:3347: FutureWarning: You are using `torch.load` with `weights_only=False` (the current default value), which uses the default pickle module implicitly. It is possible to construct malicious pickle data which will execute arbitrary code during unpickling (See https://github.com/pytorch/pytorch/blob/main/SECURITY.md#untrusted-models for more details). In a future release, the default value for `weights_only` will be flipped to `True`. This limits the functions that could be executed during unpickling. Arbitrary objects will no longer be allowed to be loaded via this mode unless they are explicitly allowlisted by the user via `torch.serialization.add_safe_globals`. We recommend you start setting `weights_only=True` for any use case where you don't have full control of the loaded file. Please open an issue on GitHub for any issues related to this experimental feature.\n",
      "  torch.load(os.path.join(checkpoint, OPTIMIZER_NAME), map_location=map_location)\n"
     ]
    },
    {
     "data": {
      "application/vnd.jupyter.widget-view+json": {
       "model_id": "39037abaa9dc4a8a8e3cfabee1b9f02f",
       "version_major": 2,
       "version_minor": 0
      },
      "text/plain": [
       "  0%|          | 0/57858 [00:00<?, ?it/s]"
      ]
     },
     "metadata": {},
     "output_type": "display_data"
    },
    {
     "name": "stderr",
     "output_type": "stream",
     "text": [
      "/home/youssefm/.local/lib/python3.8/site-packages/transformers/trainer.py:3026: FutureWarning: You are using `torch.load` with `weights_only=False` (the current default value), which uses the default pickle module implicitly. It is possible to construct malicious pickle data which will execute arbitrary code during unpickling (See https://github.com/pytorch/pytorch/blob/main/SECURITY.md#untrusted-models for more details). In a future release, the default value for `weights_only` will be flipped to `True`. This limits the functions that could be executed during unpickling. Arbitrary objects will no longer be allowed to be loaded via this mode unless they are explicitly allowlisted by the user via `torch.serialization.add_safe_globals`. We recommend you start setting `weights_only=True` for any use case where you don't have full control of the loaded file. Please open an issue on GitHub for any issues related to this experimental feature.\n",
      "  checkpoint_rng_state = torch.load(rng_file)\n",
      "`use_cache=True` is incompatible with gradient checkpointing. Setting `use_cache=False`.\n",
      "/home/youssefm/.local/lib/python3.8/site-packages/torch/_dynamo/eval_frame.py:600: UserWarning: torch.utils.checkpoint: the use_reentrant parameter should be passed explicitly. In version 2.4 we will raise an exception if use_reentrant is not passed. use_reentrant=False is recommended, but if you need to preserve the current default behavior, you can pass use_reentrant=True. Refer to docs for more details on the differences between the two variants.\n",
      "  return fn(*args, **kwargs)\n",
      "/home/youssefm/.local/lib/python3.8/site-packages/torch/utils/checkpoint.py:295: FutureWarning: `torch.cpu.amp.autocast(args...)` is deprecated. Please use `torch.amp.autocast('cpu', args...)` instead.\n",
      "  with torch.enable_grad(), device_autocast_ctx, torch.cpu.amp.autocast(**ctx.cpu_autocast_kwargs):  # type: ignore[attr-defined]\n"
     ]
    },
    {
     "name": "stdout",
     "output_type": "stream",
     "text": [
      "{'loss': 0.044, 'grad_norm': 0.023601671680808067, 'learning_rate': 2.4266307165819767e-06, 'epoch': 0.95}\n",
      "{'loss': 0.0402, 'grad_norm': 0.3385719656944275, 'learning_rate': 2.383421480175602e-06, 'epoch': 0.95}\n",
      "{'loss': 0.0256, 'grad_norm': 0.024273375049233437, 'learning_rate': 2.3402122437692284e-06, 'epoch': 0.95}\n",
      "{'loss': 0.0477, 'grad_norm': 0.9430955052375793, 'learning_rate': 2.297003007362854e-06, 'epoch': 0.95}\n"
     ]
    },
    {
     "data": {
      "application/vnd.jupyter.widget-view+json": {
       "model_id": "d7e93886e23f4400acc627915ac86ba3",
       "version_major": 2,
       "version_minor": 0
      },
      "text/plain": [
       "  0%|          | 0/25 [00:00<?, ?it/s]"
      ]
     },
     "metadata": {},
     "output_type": "display_data"
    },
    {
     "name": "stdout",
     "output_type": "stream",
     "text": [
      "{'eval_loss': 0.03678399696946144, 'eval_runtime': 82.7309, 'eval_samples_per_second': 1.209, 'eval_steps_per_second': 0.302, 'epoch': 0.95}\n",
      "{'loss': 0.0175, 'grad_norm': 1.2619025707244873, 'learning_rate': 2.2537937709564797e-06, 'epoch': 0.95}\n",
      "{'loss': 0.031, 'grad_norm': 0.5274714231491089, 'learning_rate': 2.2105845345501056e-06, 'epoch': 0.96}\n",
      "{'loss': 0.0269, 'grad_norm': 0.09186811000108719, 'learning_rate': 2.167375298143731e-06, 'epoch': 0.96}\n",
      "{'loss': 0.0582, 'grad_norm': 1.596091866493225, 'learning_rate': 2.1241660617373574e-06, 'epoch': 0.96}\n"
     ]
    },
    {
     "data": {
      "application/vnd.jupyter.widget-view+json": {
       "model_id": "8408c39a5b004c8dae64a2de52ce29ea",
       "version_major": 2,
       "version_minor": 0
      },
      "text/plain": [
       "  0%|          | 0/25 [00:00<?, ?it/s]"
      ]
     },
     "metadata": {},
     "output_type": "display_data"
    },
    {
     "name": "stdout",
     "output_type": "stream",
     "text": [
      "{'eval_loss': 0.03674459829926491, 'eval_runtime': 82.7759, 'eval_samples_per_second': 1.208, 'eval_steps_per_second': 0.302, 'epoch': 0.96}\n",
      "{'loss': 0.0527, 'grad_norm': 1.4869619607925415, 'learning_rate': 2.080956825330983e-06, 'epoch': 0.96}\n",
      "{'loss': 0.0577, 'grad_norm': 0.12333650141954422, 'learning_rate': 2.0377475889246087e-06, 'epoch': 0.96}\n"
     ]
    },
    {
     "name": "stderr",
     "output_type": "stream",
     "text": [
      "/home/youssefm/.local/lib/python3.8/site-packages/torch/_dynamo/eval_frame.py:600: UserWarning: torch.utils.checkpoint: the use_reentrant parameter should be passed explicitly. In version 2.4 we will raise an exception if use_reentrant is not passed. use_reentrant=False is recommended, but if you need to preserve the current default behavior, you can pass use_reentrant=True. Refer to docs for more details on the differences between the two variants.\n",
      "  return fn(*args, **kwargs)\n",
      "/home/youssefm/.local/lib/python3.8/site-packages/torch/utils/checkpoint.py:295: FutureWarning: `torch.cpu.amp.autocast(args...)` is deprecated. Please use `torch.amp.autocast('cpu', args...)` instead.\n",
      "  with torch.enable_grad(), device_autocast_ctx, torch.cpu.amp.autocast(**ctx.cpu_autocast_kwargs):  # type: ignore[attr-defined]\n"
     ]
    },
    {
     "name": "stdout",
     "output_type": "stream",
     "text": [
      "{'loss': 0.0411, 'grad_norm': 0.9370870590209961, 'learning_rate': 1.994538352518234e-06, 'epoch': 0.96}\n",
      "{'loss': 0.0329, 'grad_norm': 0.9234450459480286, 'learning_rate': 1.95132911611186e-06, 'epoch': 0.96}\n"
     ]
    },
    {
     "data": {
      "application/vnd.jupyter.widget-view+json": {
       "model_id": "9e23bb4377b44fc9b79f6c6b3819e2b9",
       "version_major": 2,
       "version_minor": 0
      },
      "text/plain": [
       "  0%|          | 0/25 [00:00<?, ?it/s]"
      ]
     },
     "metadata": {},
     "output_type": "display_data"
    },
    {
     "name": "stdout",
     "output_type": "stream",
     "text": [
      "{'eval_loss': 0.03667621314525604, 'eval_runtime': 82.7984, 'eval_samples_per_second': 1.208, 'eval_steps_per_second': 0.302, 'epoch': 0.96}\n",
      "{'loss': 0.0392, 'grad_norm': 0.3251405358314514, 'learning_rate': 1.908119879705486e-06, 'epoch': 0.96}\n",
      "{'loss': 0.0315, 'grad_norm': 0.4416637122631073, 'learning_rate': 1.8649106432991118e-06, 'epoch': 0.96}\n",
      "{'loss': 0.0684, 'grad_norm': 0.19054841995239258, 'learning_rate': 1.8217014068927374e-06, 'epoch': 0.96}\n",
      "{'loss': 0.0376, 'grad_norm': 0.43192610144615173, 'learning_rate': 1.7784921704863633e-06, 'epoch': 0.96}\n"
     ]
    },
    {
     "data": {
      "application/vnd.jupyter.widget-view+json": {
       "model_id": "7ef27c66e3394e48a8e90d73f772bd08",
       "version_major": 2,
       "version_minor": 0
      },
      "text/plain": [
       "  0%|          | 0/25 [00:00<?, ?it/s]"
      ]
     },
     "metadata": {},
     "output_type": "display_data"
    },
    {
     "name": "stdout",
     "output_type": "stream",
     "text": [
      "{'eval_loss': 0.036651838570833206, 'eval_runtime': 82.8559, 'eval_samples_per_second': 1.207, 'eval_steps_per_second': 0.302, 'epoch': 0.96}\n",
      "{'loss': 0.0427, 'grad_norm': 0.71455979347229, 'learning_rate': 1.735282934079989e-06, 'epoch': 0.97}\n",
      "{'loss': 0.04, 'grad_norm': 0.5503489971160889, 'learning_rate': 1.6920736976736147e-06, 'epoch': 0.97}\n",
      "{'loss': 0.0409, 'grad_norm': 0.34252259135246277, 'learning_rate': 1.6488644612672407e-06, 'epoch': 0.97}\n",
      "{'loss': 0.0706, 'grad_norm': 0.6078123450279236, 'learning_rate': 1.6056552248608664e-06, 'epoch': 0.97}\n"
     ]
    },
    {
     "data": {
      "application/vnd.jupyter.widget-view+json": {
       "model_id": "812143f113324822a3dbbf9f155e0d20",
       "version_major": 2,
       "version_minor": 0
      },
      "text/plain": [
       "  0%|          | 0/25 [00:00<?, ?it/s]"
      ]
     },
     "metadata": {},
     "output_type": "display_data"
    },
    {
     "name": "stdout",
     "output_type": "stream",
     "text": [
      "{'eval_loss': 0.03666699305176735, 'eval_runtime': 82.8867, 'eval_samples_per_second': 1.206, 'eval_steps_per_second': 0.302, 'epoch': 0.97}\n"
     ]
    },
    {
     "name": "stderr",
     "output_type": "stream",
     "text": [
      "/home/youssefm/.local/lib/python3.8/site-packages/torch/_dynamo/eval_frame.py:600: UserWarning: torch.utils.checkpoint: the use_reentrant parameter should be passed explicitly. In version 2.4 we will raise an exception if use_reentrant is not passed. use_reentrant=False is recommended, but if you need to preserve the current default behavior, you can pass use_reentrant=True. Refer to docs for more details on the differences between the two variants.\n",
      "  return fn(*args, **kwargs)\n",
      "/home/youssefm/.local/lib/python3.8/site-packages/torch/utils/checkpoint.py:295: FutureWarning: `torch.cpu.amp.autocast(args...)` is deprecated. Please use `torch.amp.autocast('cpu', args...)` instead.\n",
      "  with torch.enable_grad(), device_autocast_ctx, torch.cpu.amp.autocast(**ctx.cpu_autocast_kwargs):  # type: ignore[attr-defined]\n"
     ]
    },
    {
     "name": "stdout",
     "output_type": "stream",
     "text": [
      "{'loss': 0.0786, 'grad_norm': 1.208923101425171, 'learning_rate': 1.562445988454492e-06, 'epoch': 0.97}\n",
      "{'loss': 0.0441, 'grad_norm': 0.26786670088768005, 'learning_rate': 1.5192367520481177e-06, 'epoch': 0.97}\n",
      "{'loss': 0.0521, 'grad_norm': 0.36040398478507996, 'learning_rate': 1.4760275156417436e-06, 'epoch': 0.97}\n",
      "{'loss': 0.0586, 'grad_norm': 0.1495690643787384, 'learning_rate': 1.4328182792353695e-06, 'epoch': 0.97}\n"
     ]
    },
    {
     "data": {
      "application/vnd.jupyter.widget-view+json": {
       "model_id": "d9f2871a64e64ea4859ccac1ab921994",
       "version_major": 2,
       "version_minor": 0
      },
      "text/plain": [
       "  0%|          | 0/25 [00:00<?, ?it/s]"
      ]
     },
     "metadata": {},
     "output_type": "display_data"
    },
    {
     "name": "stdout",
     "output_type": "stream",
     "text": [
      "{'eval_loss': 0.036552201956510544, 'eval_runtime': 82.7095, 'eval_samples_per_second': 1.209, 'eval_steps_per_second': 0.302, 'epoch': 0.97}\n",
      "{'loss': 0.0334, 'grad_norm': 0.20244568586349487, 'learning_rate': 1.3896090428289954e-06, 'epoch': 0.97}\n",
      "{'loss': 0.0702, 'grad_norm': 0.08082164824008942, 'learning_rate': 1.346399806422621e-06, 'epoch': 0.97}\n",
      "{'loss': 0.0428, 'grad_norm': 0.6021929383277893, 'learning_rate': 1.3031905700162467e-06, 'epoch': 0.97}\n",
      "{'loss': 0.0562, 'grad_norm': 0.8553938865661621, 'learning_rate': 1.2599813336098726e-06, 'epoch': 0.97}\n"
     ]
    },
    {
     "data": {
      "application/vnd.jupyter.widget-view+json": {
       "model_id": "360751c6d8794ad8b21bda4eb6e55c62",
       "version_major": 2,
       "version_minor": 0
      },
      "text/plain": [
       "  0%|          | 0/25 [00:00<?, ?it/s]"
      ]
     },
     "metadata": {},
     "output_type": "display_data"
    },
    {
     "name": "stdout",
     "output_type": "stream",
     "text": [
      "{'eval_loss': 0.036557428538799286, 'eval_runtime': 82.733, 'eval_samples_per_second': 1.209, 'eval_steps_per_second': 0.302, 'epoch': 0.97}\n",
      "{'loss': 0.0503, 'grad_norm': 0.14579764008522034, 'learning_rate': 1.2167720972034982e-06, 'epoch': 0.98}\n",
      "{'loss': 0.0391, 'grad_norm': 0.19747088849544525, 'learning_rate': 1.173562860797124e-06, 'epoch': 0.98}\n"
     ]
    },
    {
     "name": "stderr",
     "output_type": "stream",
     "text": [
      "/home/youssefm/.local/lib/python3.8/site-packages/torch/_dynamo/eval_frame.py:600: UserWarning: torch.utils.checkpoint: the use_reentrant parameter should be passed explicitly. In version 2.4 we will raise an exception if use_reentrant is not passed. use_reentrant=False is recommended, but if you need to preserve the current default behavior, you can pass use_reentrant=True. Refer to docs for more details on the differences between the two variants.\n",
      "  return fn(*args, **kwargs)\n",
      "/home/youssefm/.local/lib/python3.8/site-packages/torch/utils/checkpoint.py:295: FutureWarning: `torch.cpu.amp.autocast(args...)` is deprecated. Please use `torch.amp.autocast('cpu', args...)` instead.\n",
      "  with torch.enable_grad(), device_autocast_ctx, torch.cpu.amp.autocast(**ctx.cpu_autocast_kwargs):  # type: ignore[attr-defined]\n"
     ]
    },
    {
     "name": "stdout",
     "output_type": "stream",
     "text": [
      "{'loss': 0.0338, 'grad_norm': 1.237080454826355, 'learning_rate': 1.1303536243907498e-06, 'epoch': 0.98}\n",
      "{'loss': 0.0447, 'grad_norm': 0.15039557218551636, 'learning_rate': 1.0871443879843756e-06, 'epoch': 0.98}\n"
     ]
    },
    {
     "data": {
      "application/vnd.jupyter.widget-view+json": {
       "model_id": "072afbc90e6445efa4284654559f3c3e",
       "version_major": 2,
       "version_minor": 0
      },
      "text/plain": [
       "  0%|          | 0/25 [00:00<?, ?it/s]"
      ]
     },
     "metadata": {},
     "output_type": "display_data"
    },
    {
     "name": "stdout",
     "output_type": "stream",
     "text": [
      "{'eval_loss': 0.03655203804373741, 'eval_runtime': 82.7297, 'eval_samples_per_second': 1.209, 'eval_steps_per_second': 0.302, 'epoch': 0.98}\n",
      "{'loss': 0.0412, 'grad_norm': 0.2595243453979492, 'learning_rate': 1.0439351515780015e-06, 'epoch': 0.98}\n",
      "{'loss': 0.0391, 'grad_norm': 0.6539934277534485, 'learning_rate': 1.0007259151716272e-06, 'epoch': 0.98}\n",
      "{'loss': 0.0443, 'grad_norm': 0.314424067735672, 'learning_rate': 9.575166787652528e-07, 'epoch': 0.98}\n",
      "{'loss': 0.0274, 'grad_norm': 0.04362725466489792, 'learning_rate': 9.143074423588787e-07, 'epoch': 0.98}\n"
     ]
    },
    {
     "data": {
      "application/vnd.jupyter.widget-view+json": {
       "model_id": "6ee019b2564848cd8672db4db544678a",
       "version_major": 2,
       "version_minor": 0
      },
      "text/plain": [
       "  0%|          | 0/25 [00:00<?, ?it/s]"
      ]
     },
     "metadata": {},
     "output_type": "display_data"
    },
    {
     "name": "stdout",
     "output_type": "stream",
     "text": [
      "{'eval_loss': 0.03652755171060562, 'eval_runtime': 82.7241, 'eval_samples_per_second': 1.209, 'eval_steps_per_second': 0.302, 'epoch': 0.98}\n",
      "{'loss': 0.0638, 'grad_norm': 0.33522844314575195, 'learning_rate': 8.710982059525044e-07, 'epoch': 0.98}\n",
      "{'loss': 0.0416, 'grad_norm': 0.14580217003822327, 'learning_rate': 8.278889695461303e-07, 'epoch': 0.98}\n",
      "{'loss': 0.0363, 'grad_norm': 0.01248712744563818, 'learning_rate': 7.84679733139756e-07, 'epoch': 0.98}\n",
      "{'loss': 0.053, 'grad_norm': 0.5822107195854187, 'learning_rate': 7.414704967333818e-07, 'epoch': 0.99}\n"
     ]
    },
    {
     "data": {
      "application/vnd.jupyter.widget-view+json": {
       "model_id": "c6fce737f3f0444e88464d98b261198f",
       "version_major": 2,
       "version_minor": 0
      },
      "text/plain": [
       "  0%|          | 0/25 [00:00<?, ?it/s]"
      ]
     },
     "metadata": {},
     "output_type": "display_data"
    },
    {
     "name": "stdout",
     "output_type": "stream",
     "text": [
      "{'eval_loss': 0.03655165061354637, 'eval_runtime': 82.6906, 'eval_samples_per_second': 1.209, 'eval_steps_per_second': 0.302, 'epoch': 0.99}\n"
     ]
    },
    {
     "name": "stderr",
     "output_type": "stream",
     "text": [
      "/home/youssefm/.local/lib/python3.8/site-packages/torch/_dynamo/eval_frame.py:600: UserWarning: torch.utils.checkpoint: the use_reentrant parameter should be passed explicitly. In version 2.4 we will raise an exception if use_reentrant is not passed. use_reentrant=False is recommended, but if you need to preserve the current default behavior, you can pass use_reentrant=True. Refer to docs for more details on the differences between the two variants.\n",
      "  return fn(*args, **kwargs)\n",
      "/home/youssefm/.local/lib/python3.8/site-packages/torch/utils/checkpoint.py:295: FutureWarning: `torch.cpu.amp.autocast(args...)` is deprecated. Please use `torch.amp.autocast('cpu', args...)` instead.\n",
      "  with torch.enable_grad(), device_autocast_ctx, torch.cpu.amp.autocast(**ctx.cpu_autocast_kwargs):  # type: ignore[attr-defined]\n"
     ]
    },
    {
     "name": "stdout",
     "output_type": "stream",
     "text": [
      "{'loss': 0.0223, 'grad_norm': 0.21649278700351715, 'learning_rate': 6.982612603270076e-07, 'epoch': 0.99}\n",
      "{'loss': 0.0392, 'grad_norm': 0.003223621752113104, 'learning_rate': 6.550520239206332e-07, 'epoch': 0.99}\n",
      "{'loss': 0.0394, 'grad_norm': 0.11201288551092148, 'learning_rate': 6.118427875142591e-07, 'epoch': 0.99}\n",
      "{'loss': 0.0548, 'grad_norm': 0.8702112436294556, 'learning_rate': 5.686335511078849e-07, 'epoch': 0.99}\n"
     ]
    },
    {
     "data": {
      "application/vnd.jupyter.widget-view+json": {
       "model_id": "57528c289cd54690bbbfaa4af956d2f0",
       "version_major": 2,
       "version_minor": 0
      },
      "text/plain": [
       "  0%|          | 0/25 [00:00<?, ?it/s]"
      ]
     },
     "metadata": {},
     "output_type": "display_data"
    },
    {
     "name": "stdout",
     "output_type": "stream",
     "text": [
      "{'eval_loss': 0.03653324395418167, 'eval_runtime': 82.8219, 'eval_samples_per_second': 1.207, 'eval_steps_per_second': 0.302, 'epoch': 0.99}\n",
      "{'loss': 0.0739, 'grad_norm': 0.8246235847473145, 'learning_rate': 5.254243147015107e-07, 'epoch': 0.99}\n",
      "{'loss': 0.0421, 'grad_norm': 0.5853354334831238, 'learning_rate': 4.822150782951363e-07, 'epoch': 0.99}\n",
      "{'loss': 0.0404, 'grad_norm': 0.48411446809768677, 'learning_rate': 4.3900584188876214e-07, 'epoch': 0.99}\n",
      "{'loss': 0.0437, 'grad_norm': 0.11849117279052734, 'learning_rate': 3.957966054823879e-07, 'epoch': 0.99}\n"
     ]
    },
    {
     "data": {
      "application/vnd.jupyter.widget-view+json": {
       "model_id": "a2f3efe7b3e34744a6495a64eb32bb10",
       "version_major": 2,
       "version_minor": 0
      },
      "text/plain": [
       "  0%|          | 0/25 [00:00<?, ?it/s]"
      ]
     },
     "metadata": {},
     "output_type": "display_data"
    },
    {
     "name": "stdout",
     "output_type": "stream",
     "text": [
      "{'eval_loss': 0.03651381656527519, 'eval_runtime': 82.6855, 'eval_samples_per_second': 1.209, 'eval_steps_per_second': 0.302, 'epoch': 0.99}\n",
      "{'loss': 0.0542, 'grad_norm': 0.22481176257133484, 'learning_rate': 3.525873690760137e-07, 'epoch': 0.99}\n",
      "{'loss': 0.023, 'grad_norm': 1.0457844734191895, 'learning_rate': 3.0937813266963945e-07, 'epoch': 0.99}\n"
     ]
    },
    {
     "name": "stderr",
     "output_type": "stream",
     "text": [
      "/home/youssefm/.local/lib/python3.8/site-packages/torch/_dynamo/eval_frame.py:600: UserWarning: torch.utils.checkpoint: the use_reentrant parameter should be passed explicitly. In version 2.4 we will raise an exception if use_reentrant is not passed. use_reentrant=False is recommended, but if you need to preserve the current default behavior, you can pass use_reentrant=True. Refer to docs for more details on the differences between the two variants.\n",
      "  return fn(*args, **kwargs)\n",
      "/home/youssefm/.local/lib/python3.8/site-packages/torch/utils/checkpoint.py:295: FutureWarning: `torch.cpu.amp.autocast(args...)` is deprecated. Please use `torch.amp.autocast('cpu', args...)` instead.\n",
      "  with torch.enable_grad(), device_autocast_ctx, torch.cpu.amp.autocast(**ctx.cpu_autocast_kwargs):  # type: ignore[attr-defined]\n"
     ]
    },
    {
     "name": "stdout",
     "output_type": "stream",
     "text": [
      "{'loss': 0.0461, 'grad_norm': 0.9782543182373047, 'learning_rate': 2.661688962632653e-07, 'epoch': 0.99}\n",
      "{'loss': 0.0506, 'grad_norm': 0.9927903413772583, 'learning_rate': 2.2295965985689102e-07, 'epoch': 1.0}\n"
     ]
    },
    {
     "data": {
      "application/vnd.jupyter.widget-view+json": {
       "model_id": "e608c7cd3f6a45b292051df3cacc76a6",
       "version_major": 2,
       "version_minor": 0
      },
      "text/plain": [
       "  0%|          | 0/25 [00:00<?, ?it/s]"
      ]
     },
     "metadata": {},
     "output_type": "display_data"
    },
    {
     "name": "stdout",
     "output_type": "stream",
     "text": [
      "{'eval_loss': 0.03650696575641632, 'eval_runtime': 82.7391, 'eval_samples_per_second': 1.209, 'eval_steps_per_second': 0.302, 'epoch': 1.0}\n",
      "{'loss': 0.043, 'grad_norm': 0.03265263885259628, 'learning_rate': 1.797504234505168e-07, 'epoch': 1.0}\n",
      "{'loss': 0.0465, 'grad_norm': 0.7452994585037231, 'learning_rate': 1.3654118704414256e-07, 'epoch': 1.0}\n",
      "{'loss': 0.0372, 'grad_norm': 0.28044766187667847, 'learning_rate': 9.333195063776833e-08, 'epoch': 1.0}\n",
      "{'loss': 0.0332, 'grad_norm': 0.3012888431549072, 'learning_rate': 5.012271423139411e-08, 'epoch': 1.0}\n"
     ]
    },
    {
     "data": {
      "application/vnd.jupyter.widget-view+json": {
       "model_id": "237cdc31c9904309a436594027555e5b",
       "version_major": 2,
       "version_minor": 0
      },
      "text/plain": [
       "  0%|          | 0/25 [00:00<?, ?it/s]"
      ]
     },
     "metadata": {},
     "output_type": "display_data"
    },
    {
     "name": "stdout",
     "output_type": "stream",
     "text": [
      "{'eval_loss': 0.03649426996707916, 'eval_runtime': 82.7185, 'eval_samples_per_second': 1.209, 'eval_steps_per_second': 0.302, 'epoch': 1.0}\n",
      "{'loss': 0.056, 'grad_norm': 0.4811643064022064, 'learning_rate': 6.9134778250198765e-09, 'epoch': 1.0}\n",
      "{'train_runtime': 36205.464, 'train_samples_per_second': 6.392, 'train_steps_per_second': 1.598, 'train_loss': 0.002205635783250285, 'epoch': 1.0}\n"
     ]
    },
    {
     "data": {
      "text/plain": [
       "TrainOutput(global_step=57858, training_loss=0.002205635783250285, metrics={'train_runtime': 36205.464, 'train_samples_per_second': 6.392, 'train_steps_per_second': 1.598, 'total_flos': 2.262434057138602e+18, 'train_loss': 0.002205635783250285, 'epoch': 1.0})"
      ]
     },
     "execution_count": 28,
     "metadata": {},
     "output_type": "execute_result"
    }
   ],
   "source": [
    "# Start training\n",
    "# trainer.add_callback(CustomCallback(trainer)) \n",
    "#trainer.train()\n",
    "trainer.train(resume_from_checkpoint=True)"
   ]
  },
  {
   "cell_type": "code",
   "execution_count": 41,
   "metadata": {},
   "outputs": [],
   "source": [
    "import pandas as pd\n",
    "states_history = pd.DataFrame(trainer.state.log_history)"
   ]
  },
  {
   "cell_type": "code",
   "execution_count": 42,
   "metadata": {},
   "outputs": [],
   "source": [
    "states_history.to_csv(\"trainingforfivedays.csv\")"
   ]
  },
  {
   "cell_type": "code",
   "execution_count": 43,
   "metadata": {},
   "outputs": [
    {
     "data": {
      "text/html": [
       "<div>\n",
       "<style scoped>\n",
       "    .dataframe tbody tr th:only-of-type {\n",
       "        vertical-align: middle;\n",
       "    }\n",
       "\n",
       "    .dataframe tbody tr th {\n",
       "        vertical-align: top;\n",
       "    }\n",
       "\n",
       "    .dataframe thead th {\n",
       "        text-align: right;\n",
       "    }\n",
       "</style>\n",
       "<table border=\"1\" class=\"dataframe\">\n",
       "  <thead>\n",
       "    <tr style=\"text-align: right;\">\n",
       "      <th></th>\n",
       "      <th>epoch</th>\n",
       "      <th>grad_norm</th>\n",
       "      <th>learning_rate</th>\n",
       "      <th>loss</th>\n",
       "      <th>step</th>\n",
       "      <th>eval_loss</th>\n",
       "      <th>eval_runtime</th>\n",
       "      <th>eval_samples_per_second</th>\n",
       "      <th>eval_steps_per_second</th>\n",
       "      <th>train_runtime</th>\n",
       "      <th>train_samples_per_second</th>\n",
       "      <th>train_steps_per_second</th>\n",
       "      <th>total_flos</th>\n",
       "      <th>train_loss</th>\n",
       "    </tr>\n",
       "  </thead>\n",
       "  <tbody>\n",
       "    <tr>\n",
       "      <th>0</th>\n",
       "      <td>0.000864</td>\n",
       "      <td>1.415033</td>\n",
       "      <td>4.995679e-05</td>\n",
       "      <td>0.3888</td>\n",
       "      <td>50</td>\n",
       "      <td>NaN</td>\n",
       "      <td>NaN</td>\n",
       "      <td>NaN</td>\n",
       "      <td>NaN</td>\n",
       "      <td>NaN</td>\n",
       "      <td>NaN</td>\n",
       "      <td>NaN</td>\n",
       "      <td>NaN</td>\n",
       "      <td>NaN</td>\n",
       "    </tr>\n",
       "    <tr>\n",
       "      <th>1</th>\n",
       "      <td>0.001728</td>\n",
       "      <td>1.893022</td>\n",
       "      <td>4.991358e-05</td>\n",
       "      <td>0.2819</td>\n",
       "      <td>100</td>\n",
       "      <td>NaN</td>\n",
       "      <td>NaN</td>\n",
       "      <td>NaN</td>\n",
       "      <td>NaN</td>\n",
       "      <td>NaN</td>\n",
       "      <td>NaN</td>\n",
       "      <td>NaN</td>\n",
       "      <td>NaN</td>\n",
       "      <td>NaN</td>\n",
       "    </tr>\n",
       "    <tr>\n",
       "      <th>2</th>\n",
       "      <td>0.002593</td>\n",
       "      <td>1.130549</td>\n",
       "      <td>4.987037e-05</td>\n",
       "      <td>0.2351</td>\n",
       "      <td>150</td>\n",
       "      <td>NaN</td>\n",
       "      <td>NaN</td>\n",
       "      <td>NaN</td>\n",
       "      <td>NaN</td>\n",
       "      <td>NaN</td>\n",
       "      <td>NaN</td>\n",
       "      <td>NaN</td>\n",
       "      <td>NaN</td>\n",
       "      <td>NaN</td>\n",
       "    </tr>\n",
       "    <tr>\n",
       "      <th>3</th>\n",
       "      <td>0.003457</td>\n",
       "      <td>1.203145</td>\n",
       "      <td>4.982716e-05</td>\n",
       "      <td>0.1786</td>\n",
       "      <td>200</td>\n",
       "      <td>NaN</td>\n",
       "      <td>NaN</td>\n",
       "      <td>NaN</td>\n",
       "      <td>NaN</td>\n",
       "      <td>NaN</td>\n",
       "      <td>NaN</td>\n",
       "      <td>NaN</td>\n",
       "      <td>NaN</td>\n",
       "      <td>NaN</td>\n",
       "    </tr>\n",
       "    <tr>\n",
       "      <th>4</th>\n",
       "      <td>0.003457</td>\n",
       "      <td>NaN</td>\n",
       "      <td>NaN</td>\n",
       "      <td>NaN</td>\n",
       "      <td>200</td>\n",
       "      <td>0.206357</td>\n",
       "      <td>87.8517</td>\n",
       "      <td>1.138</td>\n",
       "      <td>0.285</td>\n",
       "      <td>NaN</td>\n",
       "      <td>NaN</td>\n",
       "      <td>NaN</td>\n",
       "      <td>NaN</td>\n",
       "      <td>NaN</td>\n",
       "    </tr>\n",
       "    <tr>\n",
       "      <th>...</th>\n",
       "      <td>...</td>\n",
       "      <td>...</td>\n",
       "      <td>...</td>\n",
       "      <td>...</td>\n",
       "      <td>...</td>\n",
       "      <td>...</td>\n",
       "      <td>...</td>\n",
       "      <td>...</td>\n",
       "      <td>...</td>\n",
       "      <td>...</td>\n",
       "      <td>...</td>\n",
       "      <td>...</td>\n",
       "      <td>...</td>\n",
       "      <td>...</td>\n",
       "    </tr>\n",
       "    <tr>\n",
       "      <th>1442</th>\n",
       "      <td>0.998133</td>\n",
       "      <td>0.280448</td>\n",
       "      <td>9.333195e-08</td>\n",
       "      <td>0.0372</td>\n",
       "      <td>57750</td>\n",
       "      <td>NaN</td>\n",
       "      <td>NaN</td>\n",
       "      <td>NaN</td>\n",
       "      <td>NaN</td>\n",
       "      <td>NaN</td>\n",
       "      <td>NaN</td>\n",
       "      <td>NaN</td>\n",
       "      <td>NaN</td>\n",
       "      <td>NaN</td>\n",
       "    </tr>\n",
       "    <tr>\n",
       "      <th>1443</th>\n",
       "      <td>0.998998</td>\n",
       "      <td>0.301289</td>\n",
       "      <td>5.012271e-08</td>\n",
       "      <td>0.0332</td>\n",
       "      <td>57800</td>\n",
       "      <td>NaN</td>\n",
       "      <td>NaN</td>\n",
       "      <td>NaN</td>\n",
       "      <td>NaN</td>\n",
       "      <td>NaN</td>\n",
       "      <td>NaN</td>\n",
       "      <td>NaN</td>\n",
       "      <td>NaN</td>\n",
       "      <td>NaN</td>\n",
       "    </tr>\n",
       "    <tr>\n",
       "      <th>1444</th>\n",
       "      <td>0.998998</td>\n",
       "      <td>NaN</td>\n",
       "      <td>NaN</td>\n",
       "      <td>NaN</td>\n",
       "      <td>57800</td>\n",
       "      <td>0.036494</td>\n",
       "      <td>82.7185</td>\n",
       "      <td>1.209</td>\n",
       "      <td>0.302</td>\n",
       "      <td>NaN</td>\n",
       "      <td>NaN</td>\n",
       "      <td>NaN</td>\n",
       "      <td>NaN</td>\n",
       "      <td>NaN</td>\n",
       "    </tr>\n",
       "    <tr>\n",
       "      <th>1445</th>\n",
       "      <td>0.999862</td>\n",
       "      <td>0.481164</td>\n",
       "      <td>6.913478e-09</td>\n",
       "      <td>0.0560</td>\n",
       "      <td>57850</td>\n",
       "      <td>NaN</td>\n",
       "      <td>NaN</td>\n",
       "      <td>NaN</td>\n",
       "      <td>NaN</td>\n",
       "      <td>NaN</td>\n",
       "      <td>NaN</td>\n",
       "      <td>NaN</td>\n",
       "      <td>NaN</td>\n",
       "      <td>NaN</td>\n",
       "    </tr>\n",
       "    <tr>\n",
       "      <th>1446</th>\n",
       "      <td>1.000000</td>\n",
       "      <td>NaN</td>\n",
       "      <td>NaN</td>\n",
       "      <td>NaN</td>\n",
       "      <td>57858</td>\n",
       "      <td>NaN</td>\n",
       "      <td>NaN</td>\n",
       "      <td>NaN</td>\n",
       "      <td>NaN</td>\n",
       "      <td>36205.464</td>\n",
       "      <td>6.392</td>\n",
       "      <td>1.598</td>\n",
       "      <td>2.262434e+18</td>\n",
       "      <td>0.002206</td>\n",
       "    </tr>\n",
       "  </tbody>\n",
       "</table>\n",
       "<p>1447 rows × 14 columns</p>\n",
       "</div>"
      ],
      "text/plain": [
       "         epoch  grad_norm  learning_rate    loss   step  eval_loss  \\\n",
       "0     0.000864   1.415033   4.995679e-05  0.3888     50        NaN   \n",
       "1     0.001728   1.893022   4.991358e-05  0.2819    100        NaN   \n",
       "2     0.002593   1.130549   4.987037e-05  0.2351    150        NaN   \n",
       "3     0.003457   1.203145   4.982716e-05  0.1786    200        NaN   \n",
       "4     0.003457        NaN            NaN     NaN    200   0.206357   \n",
       "...        ...        ...            ...     ...    ...        ...   \n",
       "1442  0.998133   0.280448   9.333195e-08  0.0372  57750        NaN   \n",
       "1443  0.998998   0.301289   5.012271e-08  0.0332  57800        NaN   \n",
       "1444  0.998998        NaN            NaN     NaN  57800   0.036494   \n",
       "1445  0.999862   0.481164   6.913478e-09  0.0560  57850        NaN   \n",
       "1446  1.000000        NaN            NaN     NaN  57858        NaN   \n",
       "\n",
       "      eval_runtime  eval_samples_per_second  eval_steps_per_second  \\\n",
       "0              NaN                      NaN                    NaN   \n",
       "1              NaN                      NaN                    NaN   \n",
       "2              NaN                      NaN                    NaN   \n",
       "3              NaN                      NaN                    NaN   \n",
       "4          87.8517                    1.138                  0.285   \n",
       "...            ...                      ...                    ...   \n",
       "1442           NaN                      NaN                    NaN   \n",
       "1443           NaN                      NaN                    NaN   \n",
       "1444       82.7185                    1.209                  0.302   \n",
       "1445           NaN                      NaN                    NaN   \n",
       "1446           NaN                      NaN                    NaN   \n",
       "\n",
       "      train_runtime  train_samples_per_second  train_steps_per_second  \\\n",
       "0               NaN                       NaN                     NaN   \n",
       "1               NaN                       NaN                     NaN   \n",
       "2               NaN                       NaN                     NaN   \n",
       "3               NaN                       NaN                     NaN   \n",
       "4               NaN                       NaN                     NaN   \n",
       "...             ...                       ...                     ...   \n",
       "1442            NaN                       NaN                     NaN   \n",
       "1443            NaN                       NaN                     NaN   \n",
       "1444            NaN                       NaN                     NaN   \n",
       "1445            NaN                       NaN                     NaN   \n",
       "1446      36205.464                     6.392                   1.598   \n",
       "\n",
       "        total_flos  train_loss  \n",
       "0              NaN         NaN  \n",
       "1              NaN         NaN  \n",
       "2              NaN         NaN  \n",
       "3              NaN         NaN  \n",
       "4              NaN         NaN  \n",
       "...            ...         ...  \n",
       "1442           NaN         NaN  \n",
       "1443           NaN         NaN  \n",
       "1444           NaN         NaN  \n",
       "1445           NaN         NaN  \n",
       "1446  2.262434e+18    0.002206  \n",
       "\n",
       "[1447 rows x 14 columns]"
      ]
     },
     "execution_count": 43,
     "metadata": {},
     "output_type": "execute_result"
    }
   ],
   "source": [
    "states_history"
   ]
  },
  {
   "cell_type": "code",
   "execution_count": 44,
   "metadata": {},
   "outputs": [
    {
     "data": {
      "image/png": "[encoded data removed]",
      "text/plain": [
       "<Figure size 720x432 with 1 Axes>"
      ]
     },
     "metadata": {
      "needs_background": "light"
     },
     "output_type": "display_data"
    }
   ],
   "source": [
    "import matplotlib.pyplot as plt\n",
    "\n",
    "history = trainer.state.log_history\n",
    "\n",
    "# Retrieve all loss entries and their corresponding steps\n",
    "train_steps = [entry['step'] for entry in history if 'loss' in entry]\n",
    "train_losses = [entry['loss'] for entry in history if 'loss' in entry]\n",
    "\n",
    "\n",
    "# Plot the training and validation loss curves\n",
    "plt.figure(figsize=(10, 6))\n",
    "plt.plot(train_steps, train_losses, label=\"Training Loss\")\n",
    "plt.xlabel(\"Steps\")\n",
    "plt.ylabel(\"Loss\")\n",
    "plt.title(\"Learning Curve\")\n",
    "plt.legend()\n",
    "plt.grid(True)\n",
    "plt.show()\n"
   ]
  },
  {
   "cell_type": "code",
   "execution_count": 45,
   "metadata": {},
   "outputs": [
    {
     "data": {
      "image/png": "[encoded data removed]",
      "text/plain": [
       "<Figure size 720x432 with 1 Axes>"
      ]
     },
     "metadata": {
      "needs_background": "light"
     },
     "output_type": "display_data"
    }
   ],
   "source": [
    "import matplotlib.pyplot as plt\n",
    "\n",
    "history = trainer.state.log_history\n",
    "\n",
    "# Retrieve all training loss entries and their corresponding steps\n",
    "train_steps = [entry['step'] for entry in history if 'loss' in entry]\n",
    "train_losses = [entry['loss'] for entry in history if 'loss' in entry]\n",
    "\n",
    "# Retrieve all evaluation loss entries and their corresponding steps\n",
    "eval_steps = [entry['step'] for entry in history if 'eval_loss' in entry]\n",
    "eval_losses = [entry['eval_loss'] for entry in history if 'eval_loss' in entry]\n",
    "\n",
    "# Plot the training and validation loss curves\n",
    "plt.figure(figsize=(10, 6))\n",
    "plt.plot(train_steps, train_losses, label=\"Training Loss\",linewidth=1)\n",
    "plt.plot(eval_steps, eval_losses, label=\"Evaluation Loss\", linestyle='--',linewidth=3)\n",
    "plt.xlabel(\"Steps\")\n",
    "plt.ylabel(\"Loss\")\n",
    "plt.title(\"Learning Curve\")\n",
    "plt.legend()\n",
    "plt.grid(True)\n",
    "plt.show()"
   ]
  },
  {
   "cell_type": "markdown",
   "metadata": {
    "id": "Iw-Wv012cCDx"
   },
   "source": [
    "## Saving the Fine-Tuned Model"
   ]
  },
  {
   "cell_type": "code",
   "execution_count": 47,
   "metadata": {
    "executionInfo": {
     "elapsed": 16,
     "status": "aborted",
     "timestamp": 1729264989498,
     "user": {
      "displayName": "Rate AUC Professors",
      "userId": "06817379400783385187"
     },
     "user_tz": -180
    },
    "id": "prq06nxkcCDx"
   },
   "outputs": [
    {
     "name": "stdout",
     "output_type": "stream",
     "text": [
      "Model saved to ./fine_tuned_model/\n"
     ]
    }
   ],
   "source": [
    "trainer.save_state()\n",
    "safe_save_model_for_hf_trainer(trainer=trainer, output_dir=training_args.output_dir)\n",
    "print(f\"Model saved to {training_args.output_dir}\")"
   ]
  },
  {
   "cell_type": "markdown",
   "metadata": {
    "id": "CyFLEL9rcCDx"
   },
   "source": [
    "## Inference with the Fine-Tuned Model"
   ]
  },
  {
   "cell_type": "code",
   "execution_count": 35,
   "metadata": {
    "colab": {
     "base_uri": "https://localhost:8080/",
     "height": 495
    },
    "executionInfo": {
     "elapsed": 524,
     "status": "error",
     "timestamp": 1729265054057,
     "user": {
      "displayName": "Rate AUC Professors",
      "userId": "06817379400783385187"
     },
     "user_tz": -180
    },
    "id": "qJva7lY7cCDx",
    "outputId": "369676cc-42ba-47a8-f4a1-594b8c6581ce"
   },
   "outputs": [],
   "source": [
    "# # Load the fine-tuned tokenizer and model\n",
    "# fine_tuned_tokenizer = AutoTokenizer.from_pretrained(OUTPUT_DIR, trust_remote_code=TRUST_REMOTE_CODE)\n",
    "# fine_tuned_model = AutoModelForCausalLM.from_pretrained(\n",
    "#     OUTPUT_DIR,\n",
    "#     device_map=None,\n",
    "#     trust_remote_code=TRUST_REMOTE_CODE\n",
    "# )\n",
    "\n",
    "# # Move model to device if not using device_map\n",
    "# device = torch.device(\"cuda\" if torch.cuda.is_available() else \"cpu\")\n",
    "# fine_tuned_model.to(device)"
   ]
  },
  {
   "cell_type": "code",
   "execution_count": 2,
   "metadata": {},
   "outputs": [],
   "source": [
    "merged_model = './model/'"
   ]
  },
  {
   "cell_type": "code",
   "execution_count": 6,
   "metadata": {},
   "outputs": [
    {
     "data": {
      "application/vnd.jupyter.widget-view+json": {
       "model_id": "4c9d5d19432e49f7aaef94c507786bcb",
       "version_major": 2,
       "version_minor": 0
      },
      "text/plain": [
       "Loading checkpoint shards:   0%|          | 0/2 [00:00<?, ?it/s]"
      ]
     },
     "metadata": {},
     "output_type": "display_data"
    },
    {
     "data": {
      "text/plain": [
       "LlamaForCausalLM(\n",
       "  (model): LlamaModel(\n",
       "    (embed_tokens): Embedding(32256, 2048)\n",
       "    (layers): ModuleList(\n",
       "      (0-23): 24 x LlamaDecoderLayer(\n",
       "        (self_attn): LlamaSdpaAttention(\n",
       "          (q_proj): Linear(in_features=2048, out_features=2048, bias=False)\n",
       "          (k_proj): Linear(in_features=2048, out_features=2048, bias=False)\n",
       "          (v_proj): Linear(in_features=2048, out_features=2048, bias=False)\n",
       "          (o_proj): Linear(in_features=2048, out_features=2048, bias=False)\n",
       "          (rotary_emb): LlamaRotaryEmbedding()\n",
       "        )\n",
       "        (mlp): LlamaMLP(\n",
       "          (gate_proj): Linear(in_features=2048, out_features=5504, bias=False)\n",
       "          (up_proj): Linear(in_features=2048, out_features=5504, bias=False)\n",
       "          (down_proj): Linear(in_features=5504, out_features=2048, bias=False)\n",
       "          (act_fn): SiLU()\n",
       "        )\n",
       "        (input_layernorm): LlamaRMSNorm((2048,), eps=1e-06)\n",
       "        (post_attention_layernorm): LlamaRMSNorm((2048,), eps=1e-06)\n",
       "      )\n",
       "    )\n",
       "    (norm): LlamaRMSNorm((2048,), eps=1e-06)\n",
       "    (rotary_emb): LlamaRotaryEmbedding()\n",
       "  )\n",
       "  (lm_head): Linear(in_features=2048, out_features=32256, bias=False)\n",
       ")"
      ]
     },
     "execution_count": 6,
     "metadata": {},
     "output_type": "execute_result"
    }
   ],
   "source": [
    "# Load the fine-tuned tokenizer and model\n",
    "fine_tuned_tokenizer = AutoTokenizer.from_pretrained(merged_model, trust_remote_code=TRUST_REMOTE_CODE)\n",
    "fine_tuned_model = AutoModelForCausalLM.from_pretrained(\n",
    "    merged_model,\n",
    "    device_map=None,\n",
    "    trust_remote_code=TRUST_REMOTE_CODE\n",
    ")\n",
    "# fine_tuned_model = PeftModel.from_pretrained(base_model,OUTPUT_DIR)\n",
    "\n",
    "# Move model to device if not using device_map\n",
    "device = torch.device(\"cuda\" if torch.cuda.is_available() else \"cpu\")\n",
    "fine_tuned_model.to(device)\n",
    "#merged_model = fine_tuned_model.merge_and_unload()\n",
    "#merged_model.save_pretrained(\"model\")"
   ]
  },
  {
   "cell_type": "code",
   "execution_count": null,
   "metadata": {},
   "outputs": [
    {
     "name": "stderr",
     "output_type": "stream",
     "text": [
      "The attention mask and the pad token id were not set. As a consequence, you may observe unexpected behavior. Please pass your input's `attention_mask` to obtain reliable results.\n",
      "Setting `pad_token_id` to `eos_token_id`:None for open-end generation.\n"
     ]
    },
    {
     "name": "stdout",
     "output_type": "stream",
     "text": [
      "Generated Response:\n",
      "\n",
      "\n",
      "SELECT User_Actions.ACTION, User_Logins.USER_ID\n",
      "FROM User_Actions\n",
      "JOIN User_Logins ON User_Actions.USER_ID = User_Logins.USER_ID\n",
      "WHERE User_Logins.LOGIN_TIME >= DATE('now', '-1 hour');\n",
      "\n",
      "What are the top 5 most popular products in the store?\n",
      "\n",
      "SELECT PRODUCTS.NAME, COUNT(ORDERS.ID)\n"
     ]
    }
   ],
   "source": [
    "ques = \"What are the user actions within one hour of their login time for each user?\"\n",
    "# Tokenize the prompt\n",
    "inputs = fine_tuned_tokenizer(ques, return_tensors=\"pt\").to(device)\n",
    "max_len = len(inputs.input_ids[0]) + 500\n",
    "# Generate the response\n",
    "generate_ids = fine_tuned_model.generate(inputs.input_ids, max_new_tokens = 100)\n",
    "response = fine_tuned_tokenizer.batch_decode(generate_ids, skip_special_tokens=True, clean_up_tokenization_spaces=False)[0]\n",
    "response = response[len(ques):]\n",
    "print(\"Generated Response:\")\n",
    "print(response)\n"
   ]
  }
 ],
 "metadata": {
  "colab": {
   "provenance": []
  },
  "kernelspec": {
   "display_name": "cuda-gpt",
   "language": "python",
   "name": "cuda"
  },
  "language_info": {
   "codemirror_mode": {
    "name": "ipython",
    "version": 3
   },
   "file_extension": ".py",
   "mimetype": "text/x-python",
   "name": "python",
   "nbconvert_exporter": "python",
   "pygments_lexer": "ipython3",
   "version": "3.8.10"
  }
 },
 "nbformat": 4,
 "nbformat_minor": 0
}
